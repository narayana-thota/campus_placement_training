{
  "nbformat": 4,
  "nbformat_minor": 0,
  "metadata": {
    "colab": {
      "provenance": [],
      "authorship_tag": "ABX9TyPZiqvjcXt4uSahfc3QTbzs",
      "include_colab_link": true
    },
    "kernelspec": {
      "name": "python3",
      "display_name": "Python 3"
    },
    "language_info": {
      "name": "python"
    }
  },
  "cells": [
    {
      "cell_type": "markdown",
      "metadata": {
        "id": "view-in-github",
        "colab_type": "text"
      },
      "source": [
        "<a href=\"https://colab.research.google.com/github/narayana-thota/campus_placement_training/blob/main/Exception_Handling.ipynb\" target=\"_parent\"><img src=\"https://colab.research.google.com/assets/colab-badge.svg\" alt=\"Open In Colab\"/></a>"
      ]
    },
    {
      "cell_type": "code",
      "execution_count": null,
      "metadata": {
        "id": "BQAZyIjD8BwN"
      },
      "outputs": [],
      "source": [
        "\"\"\"\n",
        "errors - logical errors / syntax\n",
        "exceptions - sync async\n",
        "Exception -for base classes\n",
        "ArthmeticError-math errors\n",
        "ZeroDivisionError - 4/0\n",
        "StopIteration - next method for iterator not available/condition not available\n",
        "SystenExit - current os exit\n",
        "StandardError - pre defined keywords\n",
        "EOIError - i/o till the endoffile\n",
        "ImportError - file existing errors\n",
        "KeyboardInterrupt - execution interrupted by keyboard\n",
        "NameError - variable not defined\n",
        "ValueError\n",
        "IndexError\n",
        "TYpeError\n",
        "IOError\n",
        "SyntaxError\n",
        "RuntimeError\n",
        "IndentationError\n",
        "AttributeError\n",
        "\"\"\""
      ]
    },
    {
      "cell_type": "code",
      "source": [
        "#ZeroDivisionErrortry:\n",
        "try:\n",
        "  num1=int(input(\"enter numerator:\"))\n",
        "  num2=int(input(\"enter denominator:\" ))\n",
        "  output=num1/num2\n",
        "  print(\"Result:\", output)\n",
        "except ZeroDivisionError:\n",
        "  print(\"Zero cannot be divided.\")\n"
      ],
      "metadata": {
        "colab": {
          "base_uri": "https://localhost:8080/"
        },
        "id": "1JOjAcjiJUG4",
        "outputId": "5d7b5b5e-6458-4d41-988b-f008f0436ee7"
      },
      "execution_count": null,
      "outputs": [
        {
          "output_type": "stream",
          "name": "stdout",
          "text": [
            "enter numerator:58\n",
            "enter denominator:100\n",
            "Result: 0.58\n"
          ]
        }
      ]
    },
    {
      "cell_type": "code",
      "source": [
        "try:\n",
        "  filename= input(\"Enter the file name:\")\n",
        "  file= open(filename,'r')\n",
        "  number= int(file.readline())\n",
        "  print(\"Number from file\", number)\n",
        "  file.close()\n",
        "except FileNotFoundError:\n",
        "  print(\"File not found.......\")\n",
        "except ValueError:\n",
        "  print(\"File does not have integer.......\")\n",
        "except:\n",
        "  print(\"Unknow Error\")"
      ],
      "metadata": {
        "colab": {
          "base_uri": "https://localhost:8080/"
        },
        "id": "7XIlAvr5Ijpy",
        "outputId": "8f5fea44-e0a2-4537-b36e-46e87fc14c5e"
      },
      "execution_count": null,
      "outputs": [
        {
          "name": "stdout",
          "output_type": "stream",
          "text": [
            "Unknow Error\n",
            "Enter the file name:/sample.txt\n"
          ]
        }
      ]
    },
    {
      "cell_type": "code",
      "source": [
        "#multiple exceptions\n",
        "try:\n",
        "  num=int(input(\"enter a number\"))\n",
        "  print(num**3)\n",
        "except (KeyboardInterrupt,ValueError,TypeError):\n",
        "  print(\"invalid input\")\n",
        "print(\"program terminated\")"
      ],
      "metadata": {
        "colab": {
          "base_uri": "https://localhost:8080/"
        },
        "id": "ZG7oJQtbI9yn",
        "outputId": "acd0b826-2414-4ab6-9cc6-2cce67823aee"
      },
      "execution_count": null,
      "outputs": [
        {
          "output_type": "stream",
          "name": "stdout",
          "text": [
            "enter a numberu\n",
            "invalid input\n",
            "program terminated\n"
          ]
        }
      ]
    },
    {
      "cell_type": "code",
      "source": [
        "import math\n",
        "try:\n",
        "  num=int(input(\"enter a number\"))\n",
        "  if num<0:\n",
        "    raise ValueError(\"negative number\")\n",
        "except ValueError:\n",
        "  print(\"Enter Positive Number Only\")\n",
        "else:\n",
        "  print(\"squareroot:\",round(math.sqrt(num),3))"
      ],
      "metadata": {
        "colab": {
          "base_uri": "https://localhost:8080/"
        },
        "id": "j_ko5KcRKbw4",
        "outputId": "1b74c714-45f9-41c6-8883-9ff8bad97e0d"
      },
      "execution_count": null,
      "outputs": [
        {
          "output_type": "stream",
          "name": "stdout",
          "text": [
            "enter a number-1\n",
            "Enter Positive Number Only\n"
          ]
        }
      ]
    },
    {
      "cell_type": "code",
      "source": [
        "import math\n",
        "try:\n",
        "  num=int(input(\"enter a number\"))\n",
        "  print(num)\n",
        "  raise ValueError\n",
        "except:\n",
        "  print(\"Exception raised intentionally no use\")"
      ],
      "metadata": {
        "colab": {
          "base_uri": "https://localhost:8080/"
        },
        "id": "ureGlkGRM6_X",
        "outputId": "a3a27525-600d-4405-9dc6-47b756105730"
      },
      "execution_count": null,
      "outputs": [
        {
          "output_type": "stream",
          "name": "stdout",
          "text": [
            "enter a number5\n",
            "5\n",
            "Exception raised intentionally no use\n"
          ]
        }
      ]
    },
    {
      "cell_type": "code",
      "source": [
        "with open(\"/content/sample.txt\",\"w\") as f:\n",
        "  try:\n",
        "    a=int(input(\"enter a number\"))\n",
        "    b=int(input(\"enter b number\"))\n",
        "    result=a/b\n",
        "    print(result)\n",
        "  except(ZeroDivisionError,ValueError,KeyboardInterrupt):\n",
        "    f.write(\"zero division error\")\n",
        "\n"
      ],
      "metadata": {
        "id": "mR7aOuq3OzPI",
        "colab": {
          "base_uri": "https://localhost:8080/"
        },
        "outputId": "d26d8bfa-6bfb-4fb6-e89d-92d3486e8137"
      },
      "execution_count": null,
      "outputs": [
        {
          "name": "stdout",
          "output_type": "stream",
          "text": [
            "enter a number2\n",
            "enter b number0\n"
          ]
        }
      ]
    },
    {
      "cell_type": "code",
      "source": [
        "import datetime\n",
        "by 9\n",
        "mexe.py\n",
        "xe.py >\n",
        "x= int(input(\"Enter denominator:\"))\n",
        "print(\"Result:\", x/y)\n",
        "ept (ZeroDivisionError) as e:\n",
        "ct= datetime.datetime.now().strftime(\"%Y-%m-%d %H:%M:%S\")\n",
        "txt= f\"[(ct)] Error: (type(e)) \\n\"\n",
        "with open(\"data.txt\", 'a') as file:\n",
        "file.write(txt)\n",
        "except (ValueError) as e:\n",
        "ct= datetime.datetime.now().strftime(\"%Y-%m-%d %H:%M:%S\")\n",
        "txt= f\"[{ct}] Error: {type(e)} \\n\"\n",
        "with open(\"data.txt\", 'a') as file:\n",
        "file.write(txt)\n",
        "13\n",
        "meet.google.com u sharing your screens\n",
        "Stop sharing\n",
        "3.13.5"
      ],
      "metadata": {
        "id": "Ex7aayl-R0pu"
      },
      "execution_count": null,
      "outputs": []
    }
  ]
}