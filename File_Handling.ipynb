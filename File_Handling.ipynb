{
  "nbformat": 4,
  "nbformat_minor": 0,
  "metadata": {
    "colab": {
      "provenance": [],
      "authorship_tag": "ABX9TyOhkswwkiFhTeGqr9xOy+lz",
      "include_colab_link": true
    },
    "kernelspec": {
      "name": "python3",
      "display_name": "Python 3"
    },
    "language_info": {
      "name": "python"
    }
  },
  "cells": [
    {
      "cell_type": "markdown",
      "metadata": {
        "id": "view-in-github",
        "colab_type": "text"
      },
      "source": [
        "<a href=\"https://colab.research.google.com/github/narayana-thota/campus_placement_training/blob/main/File_Handling.ipynb\" target=\"_parent\"><img src=\"https://colab.research.google.com/assets/colab-badge.svg\" alt=\"Open In Colab\"/></a>"
      ]
    },
    {
      "cell_type": "markdown",
      "source": [
        "File Handling\n"
      ],
      "metadata": {
        "id": "4EeUp087_za0"
      }
    },
    {
      "cell_type": "code",
      "source": [
        "#concpets in file handling\n",
        "\"\"\"\n",
        "1.File Handling\n",
        "2.File Operations\n",
        "3.File Methods\n",
        "\"\"\""
      ],
      "metadata": {
        "id": "4OuT2pi-_44c"
      },
      "execution_count": null,
      "outputs": []
    },
    {
      "cell_type": "code",
      "source": [
        "file=open(\"/cpt.txt\",\"w\")\n",
        "file1=\"want to become successfull person\"\n",
        "data=file.write(file1)\n",
        "file.close()\n",
        "file=open(\"/cpt.txt\",\"r\")\n",
        "data=file.read()\n",
        "print(data)\n",
        "file.close()\n"
      ],
      "metadata": {
        "colab": {
          "base_uri": "https://localhost:8080/"
        },
        "id": "ywoq2pYVCIgV",
        "outputId": "a339ad32-18b8-4420-c342-cdf0afc069a5"
      },
      "execution_count": null,
      "outputs": [
        {
          "output_type": "stream",
          "name": "stdout",
          "text": [
            "want to become successfull person\n"
          ]
        }
      ]
    },
    {
      "cell_type": "code",
      "source": [
        " #opeing the file and reading the data from the file\n",
        " file=open(\"/cpt.txt\",\"r\")\n",
        " data=file.read()\n",
        " print(data)\n",
        " file.close()"
      ],
      "metadata": {
        "colab": {
          "base_uri": "https://localhost:8080/"
        },
        "id": "N2CHklt-DOI2",
        "outputId": "d4c03ee2-d264-4f39-f37e-a4355c2d02bb"
      },
      "execution_count": null,
      "outputs": [
        {
          "output_type": "stream",
          "name": "stdout",
          "text": [
            "\n"
          ]
        }
      ]
    },
    {
      "cell_type": "code",
      "source": [
        "#opening the file and writing the file using write method\n",
        "file=open(\"/sample.txt\",\"w\")\n",
        "file.write(\"my name is narayana thota\\n i want to become entrepreneur\")\n",
        "file.close()\n",
        "file=open(\"/sample.txt\",\"r\")\n",
        "data=file.read()\n",
        "print(data)\n",
        "file.close()"
      ],
      "metadata": {
        "colab": {
          "base_uri": "https://localhost:8080/"
        },
        "id": "PIIm56YeHk4c",
        "outputId": "198b3869-9c84-4c10-da4c-d2268a46651b"
      },
      "execution_count": null,
      "outputs": [
        {
          "output_type": "stream",
          "name": "stdout",
          "text": [
            "my name is narayana thota\n",
            " i want to become entrepreneur\n"
          ]
        }
      ]
    },
    {
      "cell_type": "code",
      "source": [
        "#opening the file and appending the text to the another file\n",
        "file=open(\"E:\\22KN1A44B5\\sample1.py\",\"a+\")\n",
        "file.write(\"my name is narayana thota\")\n",
        "file.close()\n",
        "file=open(\"E:\\22KN1A44B5\\sample1.py\",\"r\")\n",
        "data=file.read()\n",
        "print(data)\n",
        "file.close()"
      ],
      "metadata": {
        "colab": {
          "base_uri": "https://localhost:8080/"
        },
        "id": "CGsDQYwjIMW1",
        "outputId": "146ed3c5-1819-4dac-b1b6-1c863d01dee4"
      },
      "execution_count": null,
      "outputs": [
        {
          "output_type": "stream",
          "name": "stdout",
          "text": [
            "my name is narayana thota\n"
          ]
        }
      ]
    },
    {
      "cell_type": "code",
      "source": [
        "\"\"\"r- reading the file which has existed\n",
        "w- writing data in a file /\n",
        "fileno()- file number\n",
        "flush()= file stream refresh\n",
        "readline/readlines\n",
        "truncate()\n",
        "rstrip()\n",
        "strip()\n",
        "\"\"\""
      ],
      "metadata": {
        "colab": {
          "base_uri": "https://localhost:8080/",
          "height": 54
        },
        "id": "iS9arVTWI8Ie",
        "outputId": "be0cae97-8e89-4d2a-bad9-ce6d8c195ae2"
      },
      "execution_count": null,
      "outputs": [
        {
          "output_type": "execute_result",
          "data": {
            "text/plain": [
              "'r- reading the file which has existed\\nw- writing data in a file /\\nfileno()- file number\\nflush()= file stream refresh\\nreadline/readlines\\ntruncate()\\nrstrip()\\nstrip()\\n'"
            ],
            "application/vnd.google.colaboratory.intrinsic+json": {
              "type": "string"
            }
          },
          "metadata": {},
          "execution_count": 46
        }
      ]
    },
    {
      "cell_type": "code",
      "source": [
        "#program that accepts file name as input from the user open the file find the no of times a character can repeat\n",
        "#1.\n",
        "file_path=input(\"enter the file path\")\n",
        "file=open(file_path,\"r\")\n",
        "data=file.read()\n",
        "data1=data.count(\"a\")\n",
        "print(data)\n",
        "print(data1)\n",
        "file.close()\n",
        "#2.\n",
        "filename=input(\"enter the file name\")\n",
        "with open(filename) as file:\n",
        "    text=file.read()\n",
        "    letter=input(\"enter a char\")\n",
        "    c=0\n",
        "    for char in text:\n",
        "      if char==letter:\n",
        "        c+=1\n",
        "print(c)"
      ],
      "metadata": {
        "colab": {
          "base_uri": "https://localhost:8080/"
        },
        "id": "-pq9TWKNPJXd",
        "outputId": "a4bdbb2d-0174-4142-b35d-ff6b3775cb14"
      },
      "execution_count": null,
      "outputs": [
        {
          "output_type": "stream",
          "name": "stdout",
          "text": [
            "enter the file path/sample.txt\n",
            "my name is narayana thota\n",
            " i want to become entrepreneur\n",
            "7\n",
            "enter the file name/sample.txt\n",
            "enter a chara\n",
            "7\n"
          ]
        }
      ]
    },
    {
      "cell_type": "code",
      "source": [
        "filename=input(\"enter the file name\")\n",
        "with open(filename) as file:\n",
        "    text=file.read()\n",
        "    letter=input(\"enter a char\")\n",
        "    c=0\n",
        "    for char in text:\n",
        "      if char==letter:\n",
        "        c+=1\n",
        "print(c)\n"
      ],
      "metadata": {
        "colab": {
          "base_uri": "https://localhost:8080/"
        },
        "id": "_e1cB5WRRRXV",
        "outputId": "6e4757c5-e1bb-48cf-bb3c-d62c43293017"
      },
      "execution_count": null,
      "outputs": [
        {
          "output_type": "stream",
          "name": "stdout",
          "text": [
            "enter the file name/sample1.txt\n",
            "enter a charn\n",
            "12\n"
          ]
        }
      ]
    },
    {
      "cell_type": "code",
      "source": [
        "#Renaming a file\n",
        "import os\n",
        "os.rename(\"/sample1.txt\",\"/sample2.txt\")\n",
        "print(\"successfully renamed......\")"
      ],
      "metadata": {
        "colab": {
          "base_uri": "https://localhost:8080/"
        },
        "id": "MV5yOQzCTMt-",
        "outputId": "160cf263-865b-4d21-9722-de16923f6fb1"
      },
      "execution_count": null,
      "outputs": [
        {
          "output_type": "stream",
          "name": "stdout",
          "text": [
            "successfully renamed......\n"
          ]
        }
      ]
    },
    {
      "cell_type": "code",
      "source": [
        "#Deleting a file\n",
        "import os\n",
        "os.remove(\"/sample2.txt\")\n",
        "print(\"successfully deleted......\")\n"
      ],
      "metadata": {
        "colab": {
          "base_uri": "https://localhost:8080/"
        },
        "id": "m6Cmdw-MWA3m",
        "outputId": "189a37f4-1d6a-45bb-a9d0-d0e75aa48575"
      },
      "execution_count": null,
      "outputs": [
        {
          "output_type": "stream",
          "name": "stdout",
          "text": [
            "successfully deleted......\n"
          ]
        }
      ]
    },
    {
      "cell_type": "code",
      "source": [],
      "metadata": {
        "id": "eI1ZxN0vYVFO"
      },
      "execution_count": null,
      "outputs": []
    }
  ]
}