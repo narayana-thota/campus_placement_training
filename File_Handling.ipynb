{
  "nbformat": 4,
  "nbformat_minor": 0,
  "metadata": {
    "colab": {
      "provenance": [],
      "authorship_tag": "ABX9TyP/I7UDMmXn3iW4IteHTvNJ",
      "include_colab_link": true
    },
    "kernelspec": {
      "name": "python3",
      "display_name": "Python 3"
    },
    "language_info": {
      "name": "python"
    }
  },
  "cells": [
    {
      "cell_type": "markdown",
      "metadata": {
        "id": "view-in-github",
        "colab_type": "text"
      },
      "source": [
        "<a href=\"https://colab.research.google.com/github/narayana-thota/campus_placement_training/blob/main/File_Handling.ipynb\" target=\"_parent\"><img src=\"https://colab.research.google.com/assets/colab-badge.svg\" alt=\"Open In Colab\"/></a>"
      ]
    },
    {
      "cell_type": "markdown",
      "source": [
        "File Handling\n"
      ],
      "metadata": {
        "id": "4EeUp087_za0"
      }
    },
    {
      "cell_type": "code",
      "source": [
        "#concpets in file handling\n",
        "\"\"\"\n",
        "1.File Handling\n",
        "2.File Operations\n",
        "3.File Methods\n",
        "\"\"\""
      ],
      "metadata": {
        "id": "4OuT2pi-_44c"
      },
      "execution_count": null,
      "outputs": []
    },
    {
      "cell_type": "code",
      "source": [
        "file=open(\"/cpt.txt\",\"w\")\n",
        "file1=\"want to become successfull person\"\n",
        "data=file.write(file1)\n",
        "file.close()\n",
        "file=open(\"/cpt.txt\",\"r\")\n",
        "data=file.read()\n",
        "print(data)\n",
        "file.close()\n"
      ],
      "metadata": {
        "colab": {
          "base_uri": "https://localhost:8080/"
        },
        "id": "ywoq2pYVCIgV",
        "outputId": "a339ad32-18b8-4420-c342-cdf0afc069a5"
      },
      "execution_count": null,
      "outputs": [
        {
          "output_type": "stream",
          "name": "stdout",
          "text": [
            "want to become successfull person\n"
          ]
        }
      ]
    },
    {
      "cell_type": "code",
      "source": [
        " #opeing the file and reading the data from the file\n",
        " file=open(\"/cpt.txt\",\"r\")\n",
        " data=file.read()\n",
        " print(data)\n",
        " file.close()"
      ],
      "metadata": {
        "colab": {
          "base_uri": "https://localhost:8080/"
        },
        "id": "N2CHklt-DOI2",
        "outputId": "d4c03ee2-d264-4f39-f37e-a4355c2d02bb"
      },
      "execution_count": null,
      "outputs": [
        {
          "output_type": "stream",
          "name": "stdout",
          "text": [
            "\n"
          ]
        }
      ]
    },
    {
      "cell_type": "code",
      "source": [
        "#opening the file and writing the file using write method\n",
        "file=open(\"/sample.txt\",\"w\")\n",
        "file.write(\"my name is narayana thota\\n i want to become entrepreneur\")\n",
        "file.close()\n",
        "file=open(\"/sample.txt\",\"r\")\n",
        "data=file.read()\n",
        "print(data)\n",
        "file.close()"
      ],
      "metadata": {
        "colab": {
          "base_uri": "https://localhost:8080/"
        },
        "id": "PIIm56YeHk4c",
        "outputId": "198b3869-9c84-4c10-da4c-d2268a46651b"
      },
      "execution_count": null,
      "outputs": [
        {
          "output_type": "stream",
          "name": "stdout",
          "text": [
            "my name is narayana thota\n",
            " i want to become entrepreneur\n"
          ]
        }
      ]
    },
    {
      "cell_type": "code",
      "source": [
        "#opening the file and appending the text to the another file\n",
        "file=open(\"E:\\22KN1A44B5\\sample1.py\",\"a+\")\n",
        "file.write(\"my name is narayana thota\")\n",
        "file.close()\n",
        "file=open(\"E:\\22KN1A44B5\\sample1.py\",\"r\")\n",
        "data=file.read()\n",
        "print(data)\n",
        "file.close()"
      ],
      "metadata": {
        "colab": {
          "base_uri": "https://localhost:8080/"
        },
        "id": "CGsDQYwjIMW1",
        "outputId": "146ed3c5-1819-4dac-b1b6-1c863d01dee4"
      },
      "execution_count": null,
      "outputs": [
        {
          "output_type": "stream",
          "name": "stdout",
          "text": [
            "my name is narayana thota\n"
          ]
        }
      ]
    },
    {
      "cell_type": "code",
      "source": [
        "\"\"\"r- reading the file which has existed\n",
        "w- writing data in a file /\n",
        "fileno()- file number\n",
        "flush()= file stream refresh\n",
        "readline/readlines\n",
        "truncate()\n",
        "rstrip()\n",
        "strip()\n",
        "\"\"\""
      ],
      "metadata": {
        "colab": {
          "base_uri": "https://localhost:8080/",
          "height": 54
        },
        "id": "iS9arVTWI8Ie",
        "outputId": "be0cae97-8e89-4d2a-bad9-ce6d8c195ae2"
      },
      "execution_count": null,
      "outputs": [
        {
          "output_type": "execute_result",
          "data": {
            "text/plain": [
              "'r- reading the file which has existed\\nw- writing data in a file /\\nfileno()- file number\\nflush()= file stream refresh\\nreadline/readlines\\ntruncate()\\nrstrip()\\nstrip()\\n'"
            ],
            "application/vnd.google.colaboratory.intrinsic+json": {
              "type": "string"
            }
          },
          "metadata": {},
          "execution_count": 46
        }
      ]
    },
    {
      "cell_type": "code",
      "source": [
        "#program that accepts file name as input from the user open the file find the no of times a character can repeat\n",
        "#1.\n",
        "file_path=input(\"enter the file path\")\n",
        "file=open(file_path,\"r\")\n",
        "data=file.read()\n",
        "data1=data.count(\"a\")\n",
        "print(data)\n",
        "print(data1)\n",
        "file.close()\n",
        "#2.\n",
        "filename=input(\"enter the file name\")\n",
        "with open(filename) as file:\n",
        "    text=file.read()\n",
        "    letter=input(\"enter a char\")\n",
        "    c=0\n",
        "    for char in text:\n",
        "      if char==letter:\n",
        "        c+=1\n",
        "print(c)"
      ],
      "metadata": {
        "colab": {
          "base_uri": "https://localhost:8080/"
        },
        "id": "-pq9TWKNPJXd",
        "outputId": "a4bdbb2d-0174-4142-b35d-ff6b3775cb14"
      },
      "execution_count": null,
      "outputs": [
        {
          "output_type": "stream",
          "name": "stdout",
          "text": [
            "enter the file path/sample.txt\n",
            "my name is narayana thota\n",
            " i want to become entrepreneur\n",
            "7\n",
            "enter the file name/sample.txt\n",
            "enter a chara\n",
            "7\n"
          ]
        }
      ]
    },
    {
      "cell_type": "code",
      "source": [
        "filename=input(\"enter the file name\")\n",
        "with open(filename) as file:\n",
        "    text=file.read()\n",
        "    letter=input(\"enter a char\")\n",
        "    c=0\n",
        "    for char in text:\n",
        "      if char==letter:\n",
        "        c+=1\n",
        "print(c)\n"
      ],
      "metadata": {
        "colab": {
          "base_uri": "https://localhost:8080/"
        },
        "id": "_e1cB5WRRRXV",
        "outputId": "6e4757c5-e1bb-48cf-bb3c-d62c43293017"
      },
      "execution_count": null,
      "outputs": [
        {
          "output_type": "stream",
          "name": "stdout",
          "text": [
            "enter the file name/sample1.txt\n",
            "enter a charn\n",
            "12\n"
          ]
        }
      ]
    },
    {
      "cell_type": "code",
      "source": [
        "#Renaming a file\n",
        "import os\n",
        "os.rename(\"/sample1.txt\",\"/sample2.txt\")\n",
        "print(\"successfully renamed......\")"
      ],
      "metadata": {
        "colab": {
          "base_uri": "https://localhost:8080/"
        },
        "id": "MV5yOQzCTMt-",
        "outputId": "160cf263-865b-4d21-9722-de16923f6fb1"
      },
      "execution_count": null,
      "outputs": [
        {
          "output_type": "stream",
          "name": "stdout",
          "text": [
            "successfully renamed......\n"
          ]
        }
      ]
    },
    {
      "cell_type": "code",
      "source": [
        "#Deleting a file\n",
        "import os\n",
        "os.remove(\"/sample2.txt\")\n",
        "print(\"successfully deleted......\")\n"
      ],
      "metadata": {
        "colab": {
          "base_uri": "https://localhost:8080/"
        },
        "id": "m6Cmdw-MWA3m",
        "outputId": "189a37f4-1d6a-45bb-a9d0-d0e75aa48575"
      },
      "execution_count": null,
      "outputs": [
        {
          "output_type": "stream",
          "name": "stdout",
          "text": [
            "successfully deleted......\n"
          ]
        }
      ]
    },
    {
      "cell_type": "code",
      "source": [
        "with open(\"/content/EX.txt\",'w') as f:\n",
        "  f.write(\"narayana thota\")\n",
        "with open(\"/content/EX.txt\",'r+') as f:\n",
        "  data=f.read()\n",
        "  print(\"previous\",data)\n",
        "  new_data=data.replace(\"thota\",\"entrepreneur\")\n",
        "  f.seek(0)\n",
        "  f.write(new_data)\n",
        "  f.truncate()\n",
        "with open(\"/content/EX.txt\",\"r\") as f:\n",
        "  print(\"Latest\",new_data)"
      ],
      "metadata": {
        "id": "eI1ZxN0vYVFO",
        "colab": {
          "base_uri": "https://localhost:8080/"
        },
        "outputId": "135c4109-ea4f-465a-8b48-5d5a65028d71"
      },
      "execution_count": null,
      "outputs": [
        {
          "output_type": "stream",
          "name": "stdout",
          "text": [
            "previous narayana thota\n",
            "Latest narayana entrepreneur\n"
          ]
        }
      ]
    },
    {
      "cell_type": "code",
      "source": [
        "with open(\"/content/EX.txt\",\"w+\") as f:\n",
        "  f.write(\"hello narayana!!!\")\n",
        "  f.seek(0)\n",
        "  data=f.read()\n",
        "  print(\"previous\",data)\n",
        "  new_data=data.replace(\"narayana\",\"thota\")\n",
        "  f.seek(0)\n",
        "  f.write(new_data)\n",
        "  f.truncate()\n",
        "with open(\"/content/EX.txt\",\"r\") as f:\n",
        "  print(\"latest\",new_data)\n"
      ],
      "metadata": {
        "colab": {
          "base_uri": "https://localhost:8080/"
        },
        "id": "E2yEw4Dofzss",
        "outputId": "eeb4335d-41f4-4425-cc45-5b6f74e28c60"
      },
      "execution_count": null,
      "outputs": [
        {
          "output_type": "stream",
          "name": "stdout",
          "text": [
            "previous hello narayana!!!\n",
            "latest hello thota!!!\n"
          ]
        }
      ]
    },
    {
      "cell_type": "code",
      "source": [
        "with open(\"/content/EX.txt\",\"a+\") as f:\n",
        "  f.write(\"\\n latest line append now\")\n",
        "  f.seek(0)\n",
        "  data=f.read()\n",
        "  print(\"current data :\\n\",data)\n"
      ],
      "metadata": {
        "colab": {
          "base_uri": "https://localhost:8080/"
        },
        "id": "6g50R_sJm7iM",
        "outputId": "a0c0e4a0-ebca-4522-bbf8-b7aa62b2049f"
      },
      "execution_count": null,
      "outputs": [
        {
          "output_type": "stream",
          "name": "stdout",
          "text": [
            "current data :\n",
            " hello thota!!!\n",
            " \n",
            " latest line append now\n"
          ]
        }
      ]
    },
    {
      "cell_type": "code",
      "source": [
        "with open(\"/content/EX.txt\",\"r\") as f:\n",
        "  lines=f.readlines()\n",
        "with open(\"/content/EX.txt\",'w') as f:\n",
        "  for line in lines:\n",
        "    if line.strip() !='4':\n",
        "      f.write(line)"
      ],
      "metadata": {
        "id": "0ROvlmYipT7M"
      },
      "execution_count": null,
      "outputs": []
    },
    {
      "cell_type": "code",
      "source": [
        "f=open(\"/content/EX.txt\",\"w\")\n",
        "f.write(\"millionaire\")\n",
        "print(f.isatty())\n"
      ],
      "metadata": {
        "colab": {
          "base_uri": "https://localhost:8080/"
        },
        "id": "hKq7qekgv4g9",
        "outputId": "d78e6954-3375-4c3e-ece4-4c6ae55bfecc"
      },
      "execution_count": null,
      "outputs": [
        {
          "output_type": "stream",
          "name": "stdout",
          "text": [
            "False\n"
          ]
        }
      ]
    },
    {
      "cell_type": "code",
      "source": [
        "import sys\n",
        "age=int(input(\"enter the age:\"))\n",
        "if age<18:\n",
        "  print(\"not eligible to drive\")\n",
        "  sys.exit()\n",
        "print(\"eligible to drive\")"
      ],
      "metadata": {
        "colab": {
          "base_uri": "https://localhost:8080/",
          "height": 159
        },
        "id": "gul9Jf-q3XeL",
        "outputId": "c4f1f916-2b12-4858-82f9-7203d5086cd0"
      },
      "execution_count": null,
      "outputs": [
        {
          "output_type": "stream",
          "name": "stdout",
          "text": [
            "enter the age:17\n",
            "not eligible to drive\n"
          ]
        },
        {
          "output_type": "error",
          "ename": "SystemExit",
          "evalue": "",
          "traceback": [
            "An exception has occurred, use %tb to see the full traceback.\n",
            "\u001b[0;31mSystemExit\u001b[0m\n"
          ]
        },
        {
          "output_type": "stream",
          "name": "stderr",
          "text": [
            "/usr/local/lib/python3.11/dist-packages/IPython/core/interactiveshell.py:3561: UserWarning: To exit: use 'exit', 'quit', or Ctrl-D.\n",
            "  warn(\"To exit: use 'exit', 'quit', or Ctrl-D.\", stacklevel=1)\n"
          ]
        }
      ]
    },
    {
      "cell_type": "code",
      "source": [
        "\"\"\"sys.argv---cmd line arg\n",
        "sys.exit()\n",
        "sys.stderr---- error message\n",
        "sys.version\n",
        "sys.platform\n",
        "sys.recursionlimit()\n",
        "sys.stdout-----output redirect\n",
        "\"\"\""
      ],
      "metadata": {
        "colab": {
          "base_uri": "https://localhost:8080/",
          "height": 35
        },
        "id": "RaG7rbjo4U6L",
        "outputId": "bbfb1c88-1a7a-4533-a55b-c8162077f444"
      },
      "execution_count": null,
      "outputs": [
        {
          "output_type": "execute_result",
          "data": {
            "text/plain": [
              "'sys.argv---cmd line arg\\nsys.exit()\\nsys.stderr---- error message\\nsys.version\\nsys.platform\\nsys.recursionlimit()\\nsys.stdout-----output redirect\\n'"
            ],
            "application/vnd.google.colaboratory.intrinsic+json": {
              "type": "string"
            }
          },
          "metadata": {},
          "execution_count": 19
        }
      ]
    },
    {
      "cell_type": "code",
      "source": [],
      "metadata": {
        "id": "vaTrmHuj64l7"
      },
      "execution_count": null,
      "outputs": []
    }
  ]
}