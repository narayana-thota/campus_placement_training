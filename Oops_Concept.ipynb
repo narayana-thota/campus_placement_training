{
  "nbformat": 4,
  "nbformat_minor": 0,
  "metadata": {
    "colab": {
      "provenance": [],
      "authorship_tag": "ABX9TyMv3W37yTZg3t/eIK8VZucA",
      "include_colab_link": true
    },
    "kernelspec": {
      "name": "python3",
      "display_name": "Python 3"
    },
    "language_info": {
      "name": "python"
    }
  },
  "cells": [
    {
      "cell_type": "markdown",
      "metadata": {
        "id": "view-in-github",
        "colab_type": "text"
      },
      "source": [
        "<a href=\"https://colab.research.google.com/github/narayana-thota/campus_placement_training/blob/main/Oops_Concept.ipynb\" target=\"_parent\"><img src=\"https://colab.research.google.com/assets/colab-badge.svg\" alt=\"Open In Colab\"/></a>"
      ]
    },
    {
      "cell_type": "code",
      "execution_count": null,
      "metadata": {
        "colab": {
          "base_uri": "https://localhost:8080/"
        },
        "id": "srlbiD8u9YKf",
        "outputId": "8ad5b982-0ddb-4634-d7b4-2ad16d81b80f"
      },
      "outputs": [
        {
          "output_type": "stream",
          "name": "stdout",
          "text": [
            "Animal sound\n",
            "Dog barks...!\n",
            "Puppy weeps...!\n"
          ]
        }
      ],
      "source": [
        "#multi=level inheritance\n",
        "class pet:\n",
        "  def sound(self):\n",
        "    print(\"Animal sound\")\n",
        "class dog(pet):\n",
        "  def bark(self):\n",
        "    print(\"Dog barks...!\")\n",
        "class puppy(dog):\n",
        "  def weep(self):\n",
        "    print(\"Puppy weeps...!\")\n",
        "p=puppy()\n",
        "p.sound()\n",
        "p.bark()\n",
        "p.weep()\n"
      ]
    },
    {
      "cell_type": "code",
      "source": [
        "'''code for matg operations using base class,with lst and 2nd delivery class\n",
        "respectively\n",
        "create  an object where derived will be executed and perform multiple operations'''"
      ],
      "metadata": {
        "colab": {
          "base_uri": "https://localhost:8080/",
          "height": 54
        },
        "id": "zdCBZk43AIPd",
        "outputId": "68fadb2b-3506-466e-e503-a368582390a8"
      },
      "execution_count": null,
      "outputs": [
        {
          "output_type": "execute_result",
          "data": {
            "text/plain": [
              "'code for matg operations using base class,with lst and 2nd delivery class\\nrespectively\\ncreate  an object where derived will be executed and perform multiple operations'"
            ],
            "application/vnd.google.colaboratory.intrinsic+json": {
              "type": "string"
            }
          },
          "metadata": {},
          "execution_count": 2
        }
      ]
    },
    {
      "cell_type": "code",
      "source": [
        "class numbers:\n",
        "  def __init__(self,a,b):\n",
        "    self.a=a\n",
        "    self.b=b\n",
        "class basicops(numbers):\n",
        "  def add(self):\n",
        "    return self.a+self.b\n",
        "  def sub(self):\n",
        "    return self.a-self.b\n",
        "class advops(basicops):\n",
        "  def mul(self):\n",
        "    return self.a+self.b\n",
        "  def div(self):\n",
        "    return self.a/self.b\n",
        "x=int(input(\"enter the x value\"))\n",
        "y=int(input(\"enter the y value\"))\n",
        "calc = advops(x,y)\n",
        "print(\"addition\",calc.add())\n",
        "print(\"subtraction\",calc.sub())\n",
        "print(\"multiplication\",calc.mul())\n",
        "print(\"division\",calc.div())"
      ],
      "metadata": {
        "colab": {
          "base_uri": "https://localhost:8080/"
        },
        "id": "IRH7qbxpBzA2",
        "outputId": "de3f42d6-14c9-4b37-a720-97bb04f54abf"
      },
      "execution_count": null,
      "outputs": [
        {
          "output_type": "stream",
          "name": "stdout",
          "text": [
            "enter the x value20\n",
            "enter the y value30\n",
            "addition 50\n",
            "subtraction -10\n",
            "multiplication 50\n",
            "division 0.6666666666666666\n"
          ]
        }
      ]
    },
    {
      "cell_type": "code",
      "source": [
        "''' code for student grading system , where student base class has to\n",
        "be derived by marks and marks with grades in a multi-level inheritance .\n",
        "calculate the grade to be allotted to the student with marks A,B,C,D with >=90,\n",
        ">=75, >=60 or less than 60 respectively .\n",
        "student: Henry\n",
        "marks : [85, 90, 78, 92]\n",
        "calculate and display marks, avg, grade of Henry '''\n",
        "'''"
      ],
      "metadata": {
        "id": "JhGygl3FHJPL"
      },
      "execution_count": null,
      "outputs": []
    },
    {
      "cell_type": "code",
      "source": [
        "class student:\n",
        "  def __init__(self,a,b,c,d):\n",
        "    self.a=a\n",
        "    self.b=b\n",
        "    self.c=c\n",
        "    self.d=d\n",
        "class"
      ],
      "metadata": {
        "id": "_7mJgj7kD4RG"
      },
      "execution_count": null,
      "outputs": []
    },
    {
      "cell_type": "code",
      "source": [
        "class student:\n",
        "  def __init__(self,name):\n",
        "    self.name=name\n",
        "class marks(student):\n",
        "  def  __init__(self,name,marks):\n",
        "    super().__init__(name)\n",
        "    self.marks=marks\n",
        "  def total_marks(self):\n",
        "    return sum(self.marks)\n",
        "class grade(marks):\n",
        "  def average(self):\n",
        "    return self.total_marks()/len(self.marks)\n",
        "  def cal_grade(self):\n",
        "    avg=self.average()\n",
        "    if avg>=90:\n",
        "      return \"A\"\n",
        "    elif avg>=75:\n",
        "      return \"B\"\n",
        "    elif avg>=60:\n",
        "      return \"C\"\n",
        "    else:\n",
        "      return \"D\"\n",
        "name=input(\"enter the name\")\n",
        "marks=list(map(int,input(\"enter the marks\").split()))\n",
        "student=grade(name,marks)\n",
        "print(\"Name:\",student.name)\n",
        "print(\"Student Name:\",student.name)\n",
        "print(\"Total Marks:\",student.total_marks())\n",
        "print(\"Average Marks:\",student.average())\n",
        "print(\"Grade:\",student.cal_grade())"
      ],
      "metadata": {
        "colab": {
          "base_uri": "https://localhost:8080/"
        },
        "id": "stgIeygGGiaE",
        "outputId": "a472741e-ce64-4af9-a99e-92b096c0f234"
      },
      "execution_count": null,
      "outputs": [
        {
          "output_type": "stream",
          "name": "stdout",
          "text": [
            "enter the namenarayana\n",
            "enter the marks78 85 90 96 99\n",
            "Name: narayana\n",
            "Student Name: narayana\n",
            "Total Marks: 448\n",
            "Average Marks: 89.6\n",
            "Grade: B\n"
          ]
        }
      ]
    },
    {
      "cell_type": "code",
      "source": [
        "#hierachal inheritence\n",
        "class pet:\n",
        "  def __init__(self,name):\n",
        "    self.name=name\n",
        "  def sound(self):\n",
        "    print(f\"{self.name} makes a sound\")\n",
        "class dog(pet):\n",
        "  def sound(self):\n",
        "    print(f\"{self.name} barks\")\n",
        "class cat(pet):\n",
        "  def sound(self):\n",
        "    print(f\"{self.name} meows\")\n",
        "d=dog(\"milo\")\n",
        "c=cat(\"tom\")\n",
        "d.sound()\n",
        "c.sound()\n"
      ],
      "metadata": {
        "colab": {
          "base_uri": "https://localhost:8080/"
        },
        "id": "9_O34wPRJBgk",
        "outputId": "2dae7042-7426-4304-e995-1eb5e6431f30"
      },
      "execution_count": null,
      "outputs": [
        {
          "output_type": "stream",
          "name": "stdout",
          "text": [
            "milo barks\n",
            "tom meows\n"
          ]
        }
      ]
    },
    {
      "cell_type": "code",
      "source": [
        "\"\"\"Hierachial geomentry operations of different shapes area values of all circle,rectangle,triangle derived classes\"\"\"\n",
        "import math\n",
        "class shape:\n",
        "  def __init__(self,d1,d2=0):\n",
        "    self.d1=d1\n",
        "    self.d2=d2\n",
        "class rectangle(shape):\n",
        "  def area(self):\n",
        "    return self.d1*self.d2\n",
        "class circle(shape):\n",
        "  def area(self):\n",
        "    return math.pi*self.d1*self.d1\n",
        "class triangle(shape):\n",
        "  def area(self):\n",
        "    return 0.5*self.d1*self.d2\n",
        "rect=rectangle(10,5)\n",
        "cir=circle(7)\n",
        "tri=triangle(8,6)\n",
        "print(\"area of rectangle\",rect.area())\n",
        "print(\"area of circle\",cir.area())\n",
        "print(\"area of triangle\",tri.area())\n"
      ],
      "metadata": {
        "colab": {
          "base_uri": "https://localhost:8080/"
        },
        "id": "Rs9VUUkoLMdV",
        "outputId": "ae13bd63-7fe5-434c-b6ec-10f25911e380"
      },
      "execution_count": null,
      "outputs": [
        {
          "output_type": "stream",
          "name": "stdout",
          "text": [
            "area of rectangle 50\n",
            "area of circle 153.93804002589985\n",
            "area of triangle 24.0\n"
          ]
        }
      ]
    },
    {
      "cell_type": "code",
      "source": [
        "#abstarction of base class for evaluating the area of sq,rect,tri\n",
        "from abc import ABC,abstractmethod\n",
        "from math import pi\n",
        "class shape(ABC):\n",
        "  def __init__(self,name):\n",
        "    self.name=name\n",
        "  @abstractmethod\n",
        "  def area(self):\n",
        "    pass\n",
        "class rectangle(shape):\n",
        "  def __init__(self,l,b):\n",
        "    super().__init__(\"rectangle\")\n",
        "    self.l=l\n",
        "    self.b=b\n",
        "  def area(self):\n",
        "    return self.l*self.b\n",
        "class circle(shape):\n",
        "  def __init__(self,r):\n",
        "    super().__init__(\"circle\")\n",
        "    self.r=r\n",
        "  def area(self):\n",
        "    return pi * self.r * self.r\n",
        "class triangle(shape):\n",
        "  def __init__(self,l,h):\n",
        "    super().__init__(\"triangle\")\n",
        "    self.l=l\n",
        "    self.h=h\n",
        "  def area(self):\n",
        "    return 0.5*self.l*self.h\n",
        "rect=rectangle(10,5)\n",
        "cir=circle(7)\n",
        "tri=triangle(8,6)\n",
        "print(\"Area of rectangle:\",rect.area())\n",
        "print(\"Area of circle:\",cir.area())\n",
        "print(\"Area of triangle:\",tri.area())"
      ],
      "metadata": {
        "colab": {
          "base_uri": "https://localhost:8080/"
        },
        "id": "wMeLADOdRtfk",
        "outputId": "0f27f9d6-5114-48e4-91b1-6553e20091f4"
      },
      "execution_count": null,
      "outputs": [
        {
          "output_type": "stream",
          "name": "stdout",
          "text": [
            "Area of rectangle: 50\n",
            "Area of circle: 153.93804002589985\n",
            "Area of triangle: 24.0\n"
          ]
        }
      ]
    },
    {
      "cell_type": "code",
      "source": [
        "class car:\n",
        "  def__init__(self,brand,speed):\n",
        "    self.brand=brand\n",
        "    self.__speed=speed\n",
        "  def get_speed(self):\n",
        "    return self.__speed\n",
        "  def set_speed(self,speed):\n",
        "    if speed<0:\n",
        "      self.__speed=0\n",
        "    else:\n",
        "      self.__speed=speed\n",
        "      print(\"car is not moving\")"
      ],
      "metadata": {
        "id": "M5j2wKJ9dovS"
      },
      "execution_count": null,
      "outputs": []
    },
    {
      "cell_type": "markdown",
      "source": [],
      "metadata": {
        "id": "zAefwyP7sUrd"
      }
    },
    {
      "cell_type": "code",
      "source": [
        "#protected attributes\n",
        "class student:\n",
        "  def __init__(self,name,age):\n",
        "    self._name=name\n",
        "    self._age=age\n",
        "  def display_info(self):\n",
        "    print(f\"Name:{self._name},Age:{self._age}\")\n",
        "\n",
        "s=student(\"narayana\",22)\n",
        "print(s._name)\n",
        "s.display_info()"
      ],
      "metadata": {
        "colab": {
          "base_uri": "https://localhost:8080/"
        },
        "id": "JI0pi3azsV28",
        "outputId": "56e130dc-47cf-4c11-e591-a76481334f22"
      },
      "execution_count": null,
      "outputs": [
        {
          "output_type": "stream",
          "name": "stdout",
          "text": [
            "narayana\n",
            "Name:narayana,Age:22\n"
          ]
        }
      ]
    },
    {
      "cell_type": "code",
      "source": [
        "#private methods\n",
        "class emp:\n",
        "  def __init__(self,name,salary):\n",
        "    self.__name=name\n",
        "    self.__salary=salary\n",
        "  def __bonus(self):\n",
        "    return self.__salary*0.4\n",
        "  def pack(self):\n",
        "    return self.__salary+self.__bonus()\n",
        "e=emp(\"narayana\",50000)\n",
        "print(e.pack())\n"
      ],
      "metadata": {
        "id": "uP8US6GEs2Rv",
        "colab": {
          "base_uri": "https://localhost:8080/"
        },
        "outputId": "051f6f0d-16e7-4d29-defd-dabe207f67a0"
      },
      "execution_count": null,
      "outputs": [
        {
          "output_type": "stream",
          "name": "stdout",
          "text": [
            "70000.0\n"
          ]
        }
      ]
    },
    {
      "cell_type": "code",
      "source": [
        "\"\"\"claculate the average of 4 subjects of a student by taking protected attributes ,pass name and four\n",
        "subjects marks to class student find gpa and assign the avg of gpa\n",
        "name='******'\n",
        "marks=[99,89,64,9,5]\n",
        "output=average of grades=90.0\n",
        "output = name ****** ,gpa=90.00'' \"\"\"\n",
        "class student:\n",
        "  def __init__(self,name,grades):\n",
        "    self._name=name\n",
        "    self._grades=grades\n",
        "  def gpa(self):\n",
        "    if not self._grades:\n",
        "      return 0.0\n",
        "    return sum(self._grades)/len(self._grades)\n",
        "  def display_info(self):\n",
        "    print(f\"Name:{self._name},GPA:{self.gpa():.2f}\")\n",
        "s=student(\"narayana\",[99,89,64,9,5])\n",
        "print\n",
        "s.display_info()\n"
      ],
      "metadata": {
        "colab": {
          "base_uri": "https://localhost:8080/"
        },
        "id": "oGInHS94wDyB",
        "outputId": "13401087-1e9d-46e8-d620-b12ca090f294"
      },
      "execution_count": null,
      "outputs": [
        {
          "output_type": "stream",
          "name": "stdout",
          "text": [
            "Name:narayana,GPA:53.20\n"
          ]
        }
      ]
    },
    {
      "cell_type": "code",
      "source": [
        "\"\"\"TRY AND EXCEPTIONS\"\"\"\n",
        "#handle zero exception\n",
        "num1=int(input(\"enter the numerator\"))\n",
        "num2=int(input(\"enter the denominator\"))\n",
        "try:\n",
        "  quo=num1/num2\n",
        "  print(\"Quotient:\",quo)\n",
        "except:\n",
        "  print(\"Denominator cannot be zero\")"
      ],
      "metadata": {
        "id": "yI6HLAY4yIDB",
        "colab": {
          "base_uri": "https://localhost:8080/"
        },
        "outputId": "2e16cbce-e38b-47ce-86c7-22adb5eb589f"
      },
      "execution_count": null,
      "outputs": [
        {
          "output_type": "stream",
          "name": "stdout",
          "text": [
            "enter the numerator2\n",
            "enter the denominator0\n",
            "Denominator cannot be zero\n"
          ]
        }
      ]
    },
    {
      "cell_type": "code",
      "source": [
        "try:\n",
        "  num=int(input(\"enter a number\"))\n",
        "  print(num**3)\n",
        "except ValueError:\n",
        "  print(\"please enter carefully, enter only numeric\")\n",
        "except KeyboardInterrupt:\n",
        "  print(\"enter only numeric\")\n",
        "print(\"exit from the exception\")"
      ],
      "metadata": {
        "colab": {
          "base_uri": "https://localhost:8080/"
        },
        "id": "olmkxB-hEII2",
        "outputId": "0af5f44c-d200-4280-8fa1-22e69197b089"
      },
      "execution_count": null,
      "outputs": [
        {
          "output_type": "stream",
          "name": "stdout",
          "text": [
            "enter a number5\n",
            "125\n",
            "exit from the exception\n"
          ]
        }
      ]
    },
    {
      "cell_type": "code",
      "source": [],
      "metadata": {
        "id": "K_WrC46sGGvt"
      },
      "execution_count": null,
      "outputs": []
    }
  ]
}