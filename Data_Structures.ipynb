{
  "nbformat": 4,
  "nbformat_minor": 0,
  "metadata": {
    "colab": {
      "provenance": [],
      "authorship_tag": "ABX9TyNRmipcWJj2urZVe3WATg4J",
      "include_colab_link": true
    },
    "kernelspec": {
      "name": "python3",
      "display_name": "Python 3"
    },
    "language_info": {
      "name": "python"
    }
  },
  "cells": [
    {
      "cell_type": "markdown",
      "metadata": {
        "id": "view-in-github",
        "colab_type": "text"
      },
      "source": [
        "<a href=\"https://colab.research.google.com/github/narayana-thota/campus_placement_training/blob/main/Data_Structures.ipynb\" target=\"_parent\"><img src=\"https://colab.research.google.com/assets/colab-badge.svg\" alt=\"Open In Colab\"/></a>"
      ]
    },
    {
      "cell_type": "markdown",
      "source": [
        "DSA PROGRAMMING\n"
      ],
      "metadata": {
        "id": "ht7r0g33NnMt"
      }
    },
    {
      "cell_type": "code",
      "source": [
        "#Built In Data Structures\n",
        "\"\"\"\n",
        "1.List\n",
        "2.Tuple\n",
        "3.Set\n",
        "4.Dictonary\n",
        "5.Strings\n",
        "\"\"\""
      ],
      "metadata": {
        "colab": {
          "base_uri": "https://localhost:8080/",
          "height": 36
        },
        "id": "2YJXzQF3NDOR",
        "outputId": "ee2e082d-ca3a-4b9d-ae79-641b070d46e2"
      },
      "execution_count": null,
      "outputs": [
        {
          "output_type": "execute_result",
          "data": {
            "text/plain": [
              "'\\n1.List \\n2.Tuple\\n3.Set \\n4.Dictonary\\n5.Strings\\n'"
            ],
            "application/vnd.google.colaboratory.intrinsic+json": {
              "type": "string"
            }
          },
          "metadata": {},
          "execution_count": 14
        }
      ]
    },
    {
      "cell_type": "code",
      "source": [],
      "metadata": {
        "id": "rI_KVvTcT8OG"
      },
      "execution_count": null,
      "outputs": []
    },
    {
      "cell_type": "code",
      "source": [
        "#Topics in Data Structures covered\n",
        "\"\"\"\n",
        "1.arrays/list\n",
        "2.String\n",
        "3.stacks\n",
        "4.queues\n",
        "5.linked list\n",
        "6.Hashing/Hash Tables\n",
        "7.sets\n",
        "8.Trees\n",
        "9.Graphs\n",
        "10.Heaps /priority queue\n",
        "11.trie - prefix\n",
        "12.recursion / Backtracking\n",
        "13.Searching\n",
        "14.Sorting\n",
        "15.greedy/brute-force\n",
        "\"\"\""
      ],
      "metadata": {
        "colab": {
          "base_uri": "https://localhost:8080/",
          "height": 72
        },
        "id": "4ZYdSgRvQpyB",
        "outputId": "9762605e-8274-4385-8ddb-7b1882c8fb67"
      },
      "execution_count": null,
      "outputs": [
        {
          "output_type": "execute_result",
          "data": {
            "text/plain": [
              "'\\n1.arrays/list\\n2.String\\n3.stacks\\n4.queues\\n5.linked list\\n6.Hashing/Hash Tables\\n7.sets\\n8.Trees\\n9.Graphs\\n10.Heaps /priority queue\\n11.trie - prefix\\n12.recursion / backtracking\\n13.Searching\\n14.Sorting\\n15.greedy/brute-force\\n'"
            ],
            "application/vnd.google.colaboratory.intrinsic+json": {
              "type": "string"
            }
          },
          "metadata": {},
          "execution_count": 18
        }
      ]
    },
    {
      "cell_type": "code",
      "source": [
        "#Array operations\n",
        "\"\"\"\n",
        "program to consider a list arr=[10,20,30,40] and resptively perform insert operation and deletion operation with 50 and 25 at position 2 respectively traverse the\n",
        "array to fetch a number 25 is present or not \"\"\"\n",
        "arr=[10,20,30,40]\n",
        "#insert\n",
        "arr.append(50)\n",
        "arr.insert(2,25)\n",
        "print(arr)\n",
        "for i in arr:\n",
        "  print(i,end='')\n",
        "#deletion\n",
        "arr.remove(30)\n",
        "arr.pop()\n",
        "print(arr)\n",
        "#traversal\n",
        "for i in arr:\n",
        "  print(i,end='')\n",
        "#searching\n",
        "print(\"\\n 25 in array?\",25 in arr)"
      ],
      "metadata": {
        "colab": {
          "base_uri": "https://localhost:8080/"
        },
        "id": "rV9IkDTbTAf_",
        "outputId": "efa11681-fa47-446f-b8fe-4dcee696ffb9"
      },
      "execution_count": null,
      "outputs": [
        {
          "output_type": "stream",
          "name": "stdout",
          "text": [
            "[10, 20, 25, 30, 40, 50]\n",
            "102025304050[10, 20, 25, 40]\n",
            "10202540\n",
            " 25 in array? True\n"
          ]
        }
      ]
    },
    {
      "cell_type": "code",
      "source": [
        "''' program to check whether the program the given string is\n",
        "palindrome or not and count characters which are repeated\n",
        "str=madam\n",
        "output:{'m':2,'a':2,'d':1}\n",
        "str=malayalam\n",
        "'''\n",
        "text=input(\"enter the text\")\n",
        "if text==text[::-1]:\n",
        "  print(\"palindrome\")\n",
        "else:\n",
        "  print(\"not palindrome\")\n",
        "freq={}\n",
        "for ch in text:\n",
        "  freq[ch]=freq.get(ch,0)+1\n",
        "print(freq)"
      ],
      "metadata": {
        "id": "OAAFS3oSVELP",
        "colab": {
          "base_uri": "https://localhost:8080/"
        },
        "outputId": "aa78c488-9e43-42a1-a48e-56a673b0b798"
      },
      "execution_count": null,
      "outputs": [
        {
          "output_type": "stream",
          "name": "stdout",
          "text": [
            "enter the textmalayalam\n",
            "palindrome\n",
            "{'m': 2, 'a': 4, 'l': 2, 'y': 1}\n"
          ]
        }
      ]
    },
    {
      "cell_type": "code",
      "source": [
        "text=input(\"enter the text\")\n",
        "if text==text[::-1]:\n",
        "  print(\"palindrome\")\n",
        "else:\n",
        "  print(\"not palindrome\")\n",
        "freq={}\n",
        "for i in range(len(text)):\n",
        "  for ch in text:\n",
        "    freq[ch]=freq.get(ch,0)+1\n",
        "  print(freq)\n"
      ],
      "metadata": {
        "colab": {
          "base_uri": "https://localhost:8080/"
        },
        "id": "VnsE43M_dK-O",
        "outputId": "e4647a8b-e4df-4e9c-c4a1-c78fa2b0fa6b"
      },
      "execution_count": null,
      "outputs": [
        {
          "output_type": "stream",
          "name": "stdout",
          "text": [
            "enter the textnarayana\n",
            "not palindrome\n",
            "{'n': 2, 'a': 4, 'r': 1, 'y': 1}\n",
            "{'n': 4, 'a': 8, 'r': 2, 'y': 2}\n",
            "{'n': 6, 'a': 12, 'r': 3, 'y': 3}\n",
            "{'n': 8, 'a': 16, 'r': 4, 'y': 4}\n",
            "{'n': 10, 'a': 20, 'r': 5, 'y': 5}\n",
            "{'n': 12, 'a': 24, 'r': 6, 'y': 6}\n",
            "{'n': 14, 'a': 28, 'r': 7, 'y': 7}\n",
            "{'n': 16, 'a': 32, 'r': 8, 'y': 8}\n"
          ]
        }
      ]
    },
    {
      "cell_type": "code",
      "source": [
        "text=input(\"enter the text\")\n",
        "if text==text[::-1]:\n",
        "  print(\"palindrome\")\n",
        "else:\n",
        "  print(\"not palindrome\")\n",
        "\n"
      ],
      "metadata": {
        "colab": {
          "base_uri": "https://localhost:8080/"
        },
        "id": "ojmIgEtvgLPN",
        "outputId": "88a8fc7e-3e57-4066-a970-61691e286406"
      },
      "execution_count": null,
      "outputs": [
        {
          "output_type": "stream",
          "name": "stdout",
          "text": [
            "enter the textnarayana\n",
            "not palindrome\n"
          ]
        }
      ]
    },
    {
      "cell_type": "code",
      "source": [
        "#searchings\n",
        "\"\"\"\n",
        "1.linear\n",
        "2.binary\n",
        "3.jump\n",
        "4.sentinal\n",
        "5.fibonacci\n",
        "6.interpolation\n",
        "\"\"\""
      ],
      "metadata": {
        "colab": {
          "base_uri": "https://localhost:8080/",
          "height": 36
        },
        "id": "9Q3h0UwOgflF",
        "outputId": "2bac8e52-064b-4e64-e20e-72ae7ac65085"
      },
      "execution_count": null,
      "outputs": [
        {
          "output_type": "execute_result",
          "data": {
            "text/plain": [
              "'\\n1.linear\\n2.binary\\n3.sentinal\\n4.fibonacci \\n5.interpolation \\n'"
            ],
            "application/vnd.google.colaboratory.intrinsic+json": {
              "type": "string"
            }
          },
          "metadata": {},
          "execution_count": 39
        }
      ]
    },
    {
      "cell_type": "code",
      "source": [
        "#Linear search:\n",
        "\"\"\"\n",
        "In sorted or unsorted arrays\n",
        "[45,-,9,77,32]\n",
        "1.arr of list of size n\n",
        "2.key for seach element\n",
        "3.start with zero index\n",
        "4.compare arr[i]==key\n",
        "      arr[i]=key return index\n",
        "      else not(move to next index)\n",
        "5.repeat same steps till n-1\n",
        "6.if no match return -1\n",
        "\"\"\""
      ],
      "metadata": {
        "id": "t6i9CcYthVD-"
      },
      "execution_count": null,
      "outputs": []
    },
    {
      "cell_type": "code",
      "source": [],
      "metadata": {
        "id": "bqAQq_tGv8Ma"
      },
      "execution_count": null,
      "outputs": []
    },
    {
      "cell_type": "code",
      "source": [
        "lst=list(map(int,input(\"enter the list\").split(\",\")))\n",
        "key=int(input(\"enter the key element\"))\n",
        "for i in lst:\n",
        "    if key==i:\n",
        "             print(f\"element found at index:{lst.index(i)}\")\n",
        "    else:\n",
        "      print(\"element not found.\")"
      ],
      "metadata": {
        "colab": {
          "base_uri": "https://localhost:8080/"
        },
        "id": "D8IljOi-jRcO",
        "outputId": "a53d85d3-06ff-4816-be4b-07b5637f83b3"
      },
      "execution_count": null,
      "outputs": [
        {
          "output_type": "stream",
          "name": "stdout",
          "text": [
            "enter the list1,2,3,4,5,6,7,8\n",
            "enter the key element7\n",
            "element not found.\n",
            "element not found.\n",
            "element not found.\n",
            "element not found.\n",
            "element not found.\n",
            "element not found.\n",
            "element found at index:6\n",
            "element not found.\n"
          ]
        }
      ]
    },
    {
      "cell_type": "code",
      "source": [
        "def linear_search(arr,key):\n",
        "  for i in range(len(arr)):\n",
        "    if arr[i]==key:\n",
        "      return i\n",
        "  return -1\n",
        "size=int(input(\"enter the size of the array\"))\n",
        "arr=[]\n",
        "print(\"enter the elements\")\n",
        "for i in range(size):\n",
        "  num=int(input(f\"Element {i+1}\"))\n",
        "  arr.append(num)\n",
        "key=int(input(\"enter the element to be search\"))\n",
        "result=linear_search(arr,key)\n",
        "if result != -1:\n",
        "  print(f\"element found at index {result}\")\n",
        "else:\n",
        "  print(\"element not found\")\n",
        "\n",
        "\n"
      ],
      "metadata": {
        "colab": {
          "base_uri": "https://localhost:8080/"
        },
        "id": "lqp5T0aqktpk",
        "outputId": "09a4afa8-3fd6-45fc-dc1d-912fe4d71b7a"
      },
      "execution_count": null,
      "outputs": [
        {
          "output_type": "stream",
          "name": "stdout",
          "text": [
            "enter the size of the array5\n",
            "enter the elements\n",
            "Element 120\n",
            "Element 230\n",
            "Element 350\n",
            "Element 480\n",
            "Element 570\n",
            "enter the element to be search80\n",
            "element found at index 3\n"
          ]
        }
      ]
    },
    {
      "cell_type": "code",
      "source": [
        "#Binary search\n",
        "\"\"\"\n",
        "1.array must be sorted\n",
        "2.array is divided in to 2 seperate equivalent halfs\n",
        "***psuedo code***\n",
        "set low & high 0->n-1\n",
        "condition low<=high\n",
        "mid=low+high//2\n",
        "arr[mid]==key return mid\n",
        "arr[mid]<key low mid+1\n",
        "arr[mid]>key high mid-1\n",
        "not found return -1\n",
        "\"\"\"\n",
        "def binary_search(arr, key):\n",
        "    low = 0\n",
        "    high = len(arr) - 1\n",
        "    while low <= high:\n",
        "        mid = (low + high) // 2\n",
        "        if arr[mid] == key:\n",
        "            return mid\n",
        "        elif arr[mid] < key:\n",
        "            low = mid + 1\n",
        "        else:\n",
        "            high = mid - 1\n",
        "    return -1\n",
        "\n",
        "size = int(input(\"Enter the size of array: \"))\n",
        "arr = []\n",
        "print(\"Enter the elements in sorted order:\")\n",
        "\n",
        "for i in range(size):\n",
        "    num = int(input(f\"Element {i+1}: \"))\n",
        "    arr.append(num)\n",
        "\n",
        "key = int(input(\"Enter the element to search: \"))\n",
        "result = binary_search(arr, key)\n",
        "\n",
        "if result != -1:\n",
        "    print(f\"Element found at index {result}\")\n",
        "else:\n",
        "    print(\"Element not found\")"
      ],
      "metadata": {
        "id": "ETKtlsCnm_Hv",
        "colab": {
          "base_uri": "https://localhost:8080/"
        },
        "outputId": "78f6527c-e5ed-48d1-a452-146049972370"
      },
      "execution_count": null,
      "outputs": [
        {
          "output_type": "stream",
          "name": "stdout",
          "text": [
            "Enter the size of array: 5\n",
            "Enter the elements in sorted order:\n",
            "Element 1: 1\n",
            "Element 2: 2\n",
            "Element 3: 3\n",
            "Element 4: 4\n",
            "Element 5: 5\n",
            "Enter the element to search: 5\n",
            "Element found at index 4\n"
          ]
        }
      ]
    },
    {
      "cell_type": "code",
      "source": [
        "#jump search\n",
        "\"\"\"\n",
        "1.\n",
        "2.create a block key\n",
        "3.search operation will beperformed\n",
        "arr[m]<var/key <arr(k+1)[m]\n",
        "4.compare each jump linearly\n",
        "\"\"\"\n",
        "import math\n",
        "def jump_search(arr,key):\n",
        "  if not arr:\n",
        "    return -1\n",
        "  n=len(arr)\n",
        "  step=int(math.sqrt(n))\n",
        "  prev=0\n",
        "  while prev < n and arr[prev]<target:\n",
        "    prev+=step\n",
        "  for i in range(max(0,prev-step),min(n,prev+1)):\n",
        "    if arr[i]==target:\n",
        "      return i\n",
        "  return -1\n",
        "arr=[1,3,5,7,8,9,11]\n",
        "target=7\n",
        "result=jump_search(arr,target)\n",
        "print(f\"Element{target} found at index:{result}\")\n",
        "\n",
        "\n",
        "\n"
      ],
      "metadata": {
        "colab": {
          "base_uri": "https://localhost:8080/"
        },
        "id": "gCpPNCeAaZsb",
        "outputId": "72f2cfef-8c85-4fef-d896-4649084525ad"
      },
      "execution_count": null,
      "outputs": [
        {
          "output_type": "stream",
          "name": "stdout",
          "text": [
            "Element7 found at index:3\n"
          ]
        }
      ]
    },
    {
      "cell_type": "code",
      "source": [
        "#exponential seach\n",
        "\"\"\"3.check the fist element\n",
        "4.find the range using expo while for boundary\n",
        "identify within boundary\n",
        "5.range perform binary search\n",
        "6.return result\n",
        "\"\"\"\n",
        "def bsearch_range(arr,target,left,right):\n",
        "  while left<=right:\n",
        "    mid=(left+right)//2\n",
        "    if arr[mid]==target:\n",
        "      return mid\n",
        "    elif arr[mid]<target:\n",
        "      left=mid+1\n",
        "    else:\n",
        "      right=mid-1\n",
        "  return -1\n",
        "def expo_search(arr,target):\n",
        "  if not arr:\n",
        "    return -1\n",
        "  if arr[0]==target:\n",
        "    return 0\n",
        "  n=len(arr)\n",
        "  i=1\n",
        "  while i<n and arr[i]<=target:\n",
        "    i*=2\n",
        "  return bsearch_range(arr,target,i//2,min(i,n-1))\n",
        "arr=[2,4,6,8,10,12,14]\n",
        "target=10\n",
        "result=expo_search(arr,target)\n",
        "print(f\"Elemnt {target} found at index:{result}\")\n"
      ],
      "metadata": {
        "colab": {
          "base_uri": "https://localhost:8080/"
        },
        "id": "bCC3XYitaj57",
        "outputId": "6046aab0-f4a2-494d-d747-fa5b84b3bc1b"
      },
      "execution_count": null,
      "outputs": [
        {
          "output_type": "stream",
          "name": "stdout",
          "text": [
            "Elemnt 10 found at index:4\n"
          ]
        }
      ]
    },
    {
      "cell_type": "markdown",
      "source": [],
      "metadata": {
        "id": "bdooP54E3w0l"
      }
    },
    {
      "cell_type": "code",
      "source": [],
      "metadata": {
        "id": "2EWu0Z_13xKV"
      },
      "execution_count": null,
      "outputs": []
    },
    {
      "cell_type": "code",
      "source": [],
      "metadata": {
        "id": "8kDlBu5D3xZ1"
      },
      "execution_count": null,
      "outputs": []
    },
    {
      "cell_type": "code",
      "source": [
        "#Fibonacci search\n",
        "def fibsearch(arr,target):\n",
        "  arr=[2,4,6,8,,10,12]\n"
      ],
      "metadata": {
        "id": "6L_sx316qtfc"
      },
      "execution_count": null,
      "outputs": []
    },
    {
      "cell_type": "code",
      "source": [
        "#sorting techniques\n",
        "\"\"\"\n",
        "1.Selection sort\n",
        "2.Insertion Sort\n",
        "3.Bubble sort\n",
        "4.Quick sort\n",
        "5.Counting\n",
        "6.radix sort\n",
        "7.heap sort"
      ],
      "metadata": {
        "id": "7NgKy57nxyL3"
      },
      "execution_count": null,
      "outputs": []
    },
    {
      "cell_type": "code",
      "source": [
        "#Selection sort\n",
        "\"\"\"\n",
        "1.select from the first element in the list/array\n",
        "2.arr[0]=min\n",
        "3.compare with all the remaining elements to find the real lowest element\n",
        "4.perform swapping with current position\n",
        "5.repeat the same with adding positional values for each , min check\n",
        "\"\"\"\n",
        "#psuedo code\n",
        "\"\"\"\n",
        "1.for ->0 to n-1:\n",
        "          min=i\n",
        "          for j -> i+1 to :\n",
        "                    if arr{j}<arr[min]\n",
        "                            swap\n",
        "min=i+1\n",
        "\"\"\"\n",
        "#program\n",
        "def selection_sort(arr):\n",
        "  n=len(arr)\n",
        "  for i in range(n):\n",
        "    min_index=i\n",
        "    for j in range(i+1,n):\n",
        "      if arr[j]<arr[min_index]:\n",
        "        min_index=j\n",
        "    arr[i],arr[min_index]=arr[min_index],arr[i]\n",
        "  return arr\n",
        "\n",
        "size=int(input(\"enter the no of elements:\"))\n",
        "arr=[]\n",
        "print(\"enter \",size,\" elements\")\n",
        "for _ in range(size):\n",
        "  num=int(input())\n",
        "  arr.append(num)\n",
        "result=selection_sort(arr)\n",
        "print(\"sorted array\",result)"
      ],
      "metadata": {
        "colab": {
          "base_uri": "https://localhost:8080/"
        },
        "id": "kV_Km4wCyQaf",
        "outputId": "5c98fcc3-5532-4b85-8d65-b7175ddb4b20"
      },
      "execution_count": 14,
      "outputs": [
        {
          "output_type": "stream",
          "name": "stdout",
          "text": [
            "enter the no of elements:5\n",
            "enter  5  elements\n",
            "5\n",
            "9\n",
            "7\n",
            "2\n",
            "1\n",
            "sorted array [1, 2, 5, 7, 9]\n"
          ]
        }
      ]
    },
    {
      "cell_type": "code",
      "source": [],
      "metadata": {
        "id": "CHKpcox6qwXp"
      },
      "execution_count": null,
      "outputs": []
    },
    {
      "cell_type": "code",
      "source": [
        "#Insertion sort\n",
        "#algorithm\n",
        "\"\"\"\n",
        "1. start from the first element inX\n",
        "t\n",
        "2. previous index valued element check (\n",
        "3. shift larger element one position to the right\n",
        "4. insert the current element in the correct position\n",
        "5. repeat until list sorted\n",
        "\"\"\"\n",
        "#psuedo code\n",
        "\"\"\"\n",
        "for i > 1 to n-1:\n",
        "key = arr[i]\n",
        "j=i-1\n",
        "while j>=0 and arr[j]>key\n",
        "\"\"\""
      ],
      "metadata": {
        "id": "kU7FtFJZBcN6"
      },
      "execution_count": null,
      "outputs": []
    },
    {
      "cell_type": "code",
      "source": [
        "# Insertion Sort\n",
        "def insertion_sort(arr):\n",
        "    for i in range(1, len(arr)):\n",
        "        key = arr[i]\n",
        "        j = i - 1\n",
        "        while j >= 0 and arr[j] > key:\n",
        "            arr[j + 1] = arr[j]\n",
        "            j -= 1\n",
        "        arr[j + 1] = key\n",
        "    return arr\n",
        "\n",
        "# Input from user\n",
        "size = int(input(\"Enter the number of elements: \"))\n",
        "arr = []\n",
        "print(\"Enter\", size, \"elements:\")\n",
        "for _ in range(size):\n",
        "    num = int(input())\n",
        "    arr.append(num)\n",
        "sorted_arr = insertion_sort(arr)\n",
        "print(\"Sorted array:\", sorted_arr)\n"
      ],
      "metadata": {
        "colab": {
          "base_uri": "https://localhost:8080/"
        },
        "id": "Zii-JgsWDL7a",
        "outputId": "f0059a9c-1270-4c34-a6ce-2ed9bfca19f6"
      },
      "execution_count": 2,
      "outputs": [
        {
          "output_type": "stream",
          "name": "stdout",
          "text": [
            "Enter the number of elements: 5\n",
            "Enter 5 elements:\n",
            "8\n",
            "2\n",
            "4\n",
            "1\n",
            "9\n",
            "Sorted array: [1, 2, 4, 8, 9]\n"
          ]
        }
      ]
    },
    {
      "cell_type": "markdown",
      "source": [],
      "metadata": {
        "id": "weqEBjrJ3MmX"
      }
    },
    {
      "cell_type": "code",
      "source": [
        "#Bubble sort\n",
        "#Algorithm\n",
        "\"\"\"\n",
        "1.start from the beginning of the array/list2.\n",
        "2.comapre each pair to adjacent number\n",
        "3.if latest element is greater than adjacent perform swap\n",
        "4.repeat the process till n-1\n",
        "5.after each cycle/pass largest unsorted element would be in correct position\n",
        "6.repeat pass till all elements are sorted\n",
        "\"\"\"\n",
        "#psuedo code\n",
        "\"\"\"\n",
        "for i->0 to n-1\"\n",
        "for j-o to n-i-2\n",
        "if a[j]>a[j+1]\n",
        "swap(a[j],a[j+1])\n",
        "\"\"\"\n",
        "#program\n",
        "def bubble_sort(arr):\n",
        "  n=len(arr)\n",
        "  for i in range(n):\n",
        "    for j in range(0,n-i-1):\n",
        "      if arr[j]>arr[j+1]:\n",
        "        arr[j],arr[j+1]=arr[j+1],arr[j]\n",
        "\n",
        "size=int(input(\"enter the number of elements\"))\n",
        "arr=[]\n",
        "print(\"enter the elements:\")\n",
        "for _ in range(size):\n",
        "  arr.append(int(input()))\n",
        "print(\"original list:\",arr)\n",
        "bubble_sort(arr)\n",
        "print(\"Bubble sorted :\",arr)"
      ],
      "metadata": {
        "colab": {
          "base_uri": "https://localhost:8080/"
        },
        "id": "7u2RKFO3U2tF",
        "outputId": "1dbc963a-6c5f-4878-ec70-0e5aad1dce93"
      },
      "execution_count": 9,
      "outputs": [
        {
          "output_type": "stream",
          "name": "stdout",
          "text": [
            "enter the number of elements5\n",
            "enter the elements:\n",
            "2\n",
            "8\n",
            "6\n",
            "1\n",
            "5\n",
            "original list: [2, 8, 6, 1, 5]\n",
            "Bubble sorted : [1, 2, 5, 6, 8]\n"
          ]
        }
      ]
    },
    {
      "cell_type": "code",
      "source": [
        "#Counting sort\n",
        "\"\"\"\n",
        "1.no -ve numbers\n",
        "2.no -long numbers\n",
        "3.short confined numbers only ex:0-100\n",
        "\"\"\"\n",
        "#Algorithm\n",
        "\"\"\"\n",
        "1.find max min of array\n",
        "2.min!<0\n",
        "3.create a count array\n",
        "4.modify the count array for each element to be store the sum of previous\n",
        "counts\n",
        "5.place the output array back to the original array\n",
        "6.return the output array\n",
        "\"\"\"\n",
        "#pseudo code\n",
        "\"\"\"\n",
        "countsort(arr,n)\":\n",
        "1.find the max in arr\n",
        "2.create count(0-max)\n",
        "3.for i->0 to n-1:\n",
        "coun[a[i]]+=1\n",
        "4.for i-> 1 to max_va:\n",
        "count[i]+=count[i-1]\n",
        "5.for i>n-1 to 0:\n",
        "output[count[a[i]]-1]=a[i]\n",
        "count[a[i]]-=1\n",
        "6.return count\n",
        "\"\"\"\n",
        "#program\n",
        "def csort(arr):\n",
        "    if not arr:\n",
        "        return []\n",
        "    max_value=max(arr)\n",
        "    count=[0]*(max_value+1)\n",
        "    #freq\n",
        "    for num in arr:\n",
        "        count[num]+=1\n",
        "    #count\n",
        "    for i in range(1,max_value+1):\n",
        "        count[i]+=count[i-1]\n",
        "    output=[0]*len(arr)\n",
        "    #stable sort\n",
        "    for num in reversed(arr):\n",
        "        output[count[num]-1]=num\n",
        "        count[num]-=1\n",
        "    #copying sorted list\n",
        "    for i in range(len(arr)):\n",
        "        arr[i]=output[i]\n",
        "    return arr # Added return statement\n",
        "\n",
        "arr=[4,2,2,8,3,3,1]\n",
        "print(\"Before\",arr)\n",
        "arr = csort(arr) # Assigned the returned sorted array back to arr\n",
        "print(\"After:\",arr)"
      ],
      "metadata": {
        "colab": {
          "base_uri": "https://localhost:8080/"
        },
        "id": "Him8jP9rY1y4",
        "outputId": "aa35c868-b470-4a36-800f-75a4beb37454"
      },
      "execution_count": 16,
      "outputs": [
        {
          "output_type": "stream",
          "name": "stdout",
          "text": [
            "Before [4, 2, 2, 8, 3, 3, 1]\n",
            "After: [1, 2, 2, 3, 3, 4, 8]\n"
          ]
        }
      ]
    },
    {
      "cell_type": "code",
      "source": [],
      "metadata": {
        "id": "lsRGnONwe0cn"
      },
      "execution_count": null,
      "outputs": []
    },
    {
      "cell_type": "code",
      "source": [],
      "metadata": {
        "id": "IsmhX0y5fGkp"
      },
      "execution_count": null,
      "outputs": []
    }
  ]
}