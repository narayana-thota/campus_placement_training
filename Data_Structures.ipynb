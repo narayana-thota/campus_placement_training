{
  "nbformat": 4,
  "nbformat_minor": 0,
  "metadata": {
    "colab": {
      "provenance": [],
      "authorship_tag": "ABX9TyM5O2Oj4tBujMl3BFF0Fcon",
      "include_colab_link": true
    },
    "kernelspec": {
      "name": "python3",
      "display_name": "Python 3"
    },
    "language_info": {
      "name": "python"
    }
  },
  "cells": [
    {
      "cell_type": "markdown",
      "metadata": {
        "id": "view-in-github",
        "colab_type": "text"
      },
      "source": [
        "<a href=\"https://colab.research.google.com/github/narayana-thota/campus_placement_training/blob/main/Data_Structures.ipynb\" target=\"_parent\"><img src=\"https://colab.research.google.com/assets/colab-badge.svg\" alt=\"Open In Colab\"/></a>"
      ]
    },
    {
      "cell_type": "markdown",
      "source": [
        "DSA PROGRAMMING\n"
      ],
      "metadata": {
        "id": "ht7r0g33NnMt"
      }
    },
    {
      "cell_type": "code",
      "source": [
        "#Built In Data Structures\n",
        "\"\"\"\n",
        "1.List\n",
        "2.Tuple\n",
        "3.Set\n",
        "4.Dictonary\n",
        "5.Strings\n",
        "\"\"\""
      ],
      "metadata": {
        "colab": {
          "base_uri": "https://localhost:8080/",
          "height": 35
        },
        "id": "2YJXzQF3NDOR",
        "outputId": "b8cdf15a-7690-46e3-ea24-8701af896f2a"
      },
      "execution_count": null,
      "outputs": [
        {
          "output_type": "execute_result",
          "data": {
            "text/plain": [
              "'\\n1.List\\n2.Tuple\\n3.Set\\n4.Dictonary\\n5.Strings\\n'"
            ],
            "application/vnd.google.colaboratory.intrinsic+json": {
              "type": "string"
            }
          },
          "metadata": {},
          "execution_count": 6
        }
      ]
    },
    {
      "cell_type": "code",
      "source": [],
      "metadata": {
        "id": "rI_KVvTcT8OG"
      },
      "execution_count": null,
      "outputs": []
    },
    {
      "cell_type": "code",
      "source": [
        "#Topics in Data Structures covered\n",
        "\"\"\"\n",
        "1.arrays/list\n",
        "2.String\n",
        "3.stacks\n",
        "4.queues\n",
        "5.linked list\n",
        "6.Hashing/Hash Tables\n",
        "7.sets\n",
        "8.Trees\n",
        "9.Graphs\n",
        "10.Heaps /priority queue\n",
        "11.trie - prefix\n",
        "12.recursion / Backtracking\n",
        "13.Searching\n",
        "14.Sorting\n",
        "15.greedy/brute-force\n",
        "\"\"\""
      ],
      "metadata": {
        "colab": {
          "base_uri": "https://localhost:8080/",
          "height": 52
        },
        "id": "4ZYdSgRvQpyB",
        "outputId": "2b66073f-4d46-4b7b-800c-abdf9f2ab2d8"
      },
      "execution_count": null,
      "outputs": [
        {
          "output_type": "execute_result",
          "data": {
            "text/plain": [
              "'\\n1.arrays/list\\n2.String\\n3.stacks\\n4.queues\\n5.linked list\\n6.Hashing/Hash Tables\\n7.sets\\n8.Trees\\n9.Graphs\\n10.Heaps /priority queue\\n11.trie - prefix\\n12.recursion / Backtracking\\n13.Searching\\n14.Sorting\\n15.greedy/brute-force\\n'"
            ],
            "application/vnd.google.colaboratory.intrinsic+json": {
              "type": "string"
            }
          },
          "metadata": {},
          "execution_count": 7
        }
      ]
    },
    {
      "cell_type": "code",
      "source": [
        "#Array operations\n",
        "\"\"\"\n",
        "program to consider a list arr=[10,20,30,40] and resptively perform insert operation and deletion operation with 50 and 25 at position 2 respectively traverse the\n",
        "array to fetch a number 25 is present or not \"\"\"\n",
        "arr=[10,20,30,40]\n",
        "#insert\n",
        "arr.append(50)\n",
        "arr.insert(2,25)\n",
        "print(arr)\n",
        "for i in arr:\n",
        "  print(i,end='')\n",
        "#deletion\n",
        "arr.remove(30)\n",
        "arr.pop()\n",
        "print(arr)\n",
        "#traversal\n",
        "for i in arr:\n",
        "  print(i,end='')\n",
        "#searching\n",
        "print(\"\\n 25 in array?\",25 in arr)"
      ],
      "metadata": {
        "colab": {
          "base_uri": "https://localhost:8080/"
        },
        "id": "rV9IkDTbTAf_",
        "outputId": "3e1d4dbe-513a-4ace-ad1e-04556ef1c2b6"
      },
      "execution_count": null,
      "outputs": [
        {
          "output_type": "stream",
          "name": "stdout",
          "text": [
            "[10, 20, 25, 30, 40, 50]\n",
            "102025304050[10, 20, 25, 40]\n",
            "10202540\n",
            " 25 in array? True\n"
          ]
        }
      ]
    },
    {
      "cell_type": "code",
      "source": [
        "''' program to check whether the program the given string is\n",
        "palindrome or not and count characters which are repeated\n",
        "str=madam\n",
        "output:{'m':2,'a':2,'d':1}\n",
        "str=malayalam\n",
        "'''\n",
        "text=input(\"enter the text\")\n",
        "if text==text[::-1]:\n",
        "  print(\"palindrome\")\n",
        "else:\n",
        "  print(\"not palindrome\")\n",
        "freq={}\n",
        "for ch in text:\n",
        "  freq[ch]=freq.get(ch,0)+1\n",
        "print(freq)"
      ],
      "metadata": {
        "id": "OAAFS3oSVELP",
        "colab": {
          "base_uri": "https://localhost:8080/",
          "height": 388
        },
        "outputId": "f58b170f-037b-422a-db1e-777706fcc5c9"
      },
      "execution_count": null,
      "outputs": [
        {
          "output_type": "error",
          "ename": "KeyboardInterrupt",
          "evalue": "Interrupted by user",
          "traceback": [
            "\u001b[0;31m---------------------------------------------------------------------------\u001b[0m",
            "\u001b[0;31mKeyboardInterrupt\u001b[0m                         Traceback (most recent call last)",
            "\u001b[0;32m/tmp/ipython-input-9-3269290381.py\u001b[0m in \u001b[0;36m<cell line: 0>\u001b[0;34m()\u001b[0m\n\u001b[1;32m      5\u001b[0m \u001b[0mstr\u001b[0m\u001b[0;34m=\u001b[0m\u001b[0mmalayalam\u001b[0m\u001b[0;34m\u001b[0m\u001b[0;34m\u001b[0m\u001b[0m\n\u001b[1;32m      6\u001b[0m '''\n\u001b[0;32m----> 7\u001b[0;31m \u001b[0mtext\u001b[0m\u001b[0;34m=\u001b[0m\u001b[0minput\u001b[0m\u001b[0;34m(\u001b[0m\u001b[0;34m\"enter the text\"\u001b[0m\u001b[0;34m)\u001b[0m\u001b[0;34m\u001b[0m\u001b[0;34m\u001b[0m\u001b[0m\n\u001b[0m\u001b[1;32m      8\u001b[0m \u001b[0;32mif\u001b[0m \u001b[0mtext\u001b[0m\u001b[0;34m==\u001b[0m\u001b[0mtext\u001b[0m\u001b[0;34m[\u001b[0m\u001b[0;34m:\u001b[0m\u001b[0;34m:\u001b[0m\u001b[0;34m-\u001b[0m\u001b[0;36m1\u001b[0m\u001b[0;34m]\u001b[0m\u001b[0;34m:\u001b[0m\u001b[0;34m\u001b[0m\u001b[0;34m\u001b[0m\u001b[0m\n\u001b[1;32m      9\u001b[0m   \u001b[0mprint\u001b[0m\u001b[0;34m(\u001b[0m\u001b[0;34m\"palindrome\"\u001b[0m\u001b[0;34m)\u001b[0m\u001b[0;34m\u001b[0m\u001b[0;34m\u001b[0m\u001b[0m\n",
            "\u001b[0;32m/usr/local/lib/python3.11/dist-packages/ipykernel/kernelbase.py\u001b[0m in \u001b[0;36mraw_input\u001b[0;34m(self, prompt)\u001b[0m\n\u001b[1;32m   1175\u001b[0m                 \u001b[0;34m\"raw_input was called, but this frontend does not support input requests.\"\u001b[0m\u001b[0;34m\u001b[0m\u001b[0;34m\u001b[0m\u001b[0m\n\u001b[1;32m   1176\u001b[0m             )\n\u001b[0;32m-> 1177\u001b[0;31m         return self._input_request(\n\u001b[0m\u001b[1;32m   1178\u001b[0m             \u001b[0mstr\u001b[0m\u001b[0;34m(\u001b[0m\u001b[0mprompt\u001b[0m\u001b[0;34m)\u001b[0m\u001b[0;34m,\u001b[0m\u001b[0;34m\u001b[0m\u001b[0;34m\u001b[0m\u001b[0m\n\u001b[1;32m   1179\u001b[0m             \u001b[0mself\u001b[0m\u001b[0;34m.\u001b[0m\u001b[0m_parent_ident\u001b[0m\u001b[0;34m[\u001b[0m\u001b[0;34m\"shell\"\u001b[0m\u001b[0;34m]\u001b[0m\u001b[0;34m,\u001b[0m\u001b[0;34m\u001b[0m\u001b[0;34m\u001b[0m\u001b[0m\n",
            "\u001b[0;32m/usr/local/lib/python3.11/dist-packages/ipykernel/kernelbase.py\u001b[0m in \u001b[0;36m_input_request\u001b[0;34m(self, prompt, ident, parent, password)\u001b[0m\n\u001b[1;32m   1217\u001b[0m             \u001b[0;32mexcept\u001b[0m \u001b[0mKeyboardInterrupt\u001b[0m\u001b[0;34m:\u001b[0m\u001b[0;34m\u001b[0m\u001b[0;34m\u001b[0m\u001b[0m\n\u001b[1;32m   1218\u001b[0m                 \u001b[0;31m# re-raise KeyboardInterrupt, to truncate traceback\u001b[0m\u001b[0;34m\u001b[0m\u001b[0;34m\u001b[0m\u001b[0m\n\u001b[0;32m-> 1219\u001b[0;31m                 \u001b[0;32mraise\u001b[0m \u001b[0mKeyboardInterrupt\u001b[0m\u001b[0;34m(\u001b[0m\u001b[0;34m\"Interrupted by user\"\u001b[0m\u001b[0;34m)\u001b[0m \u001b[0;32mfrom\u001b[0m \u001b[0;32mNone\u001b[0m\u001b[0;34m\u001b[0m\u001b[0;34m\u001b[0m\u001b[0m\n\u001b[0m\u001b[1;32m   1220\u001b[0m             \u001b[0;32mexcept\u001b[0m \u001b[0mException\u001b[0m\u001b[0;34m:\u001b[0m\u001b[0;34m\u001b[0m\u001b[0;34m\u001b[0m\u001b[0m\n\u001b[1;32m   1221\u001b[0m                 \u001b[0mself\u001b[0m\u001b[0;34m.\u001b[0m\u001b[0mlog\u001b[0m\u001b[0;34m.\u001b[0m\u001b[0mwarning\u001b[0m\u001b[0;34m(\u001b[0m\u001b[0;34m\"Invalid Message:\"\u001b[0m\u001b[0;34m,\u001b[0m \u001b[0mexc_info\u001b[0m\u001b[0;34m=\u001b[0m\u001b[0;32mTrue\u001b[0m\u001b[0;34m)\u001b[0m\u001b[0;34m\u001b[0m\u001b[0;34m\u001b[0m\u001b[0m\n",
            "\u001b[0;31mKeyboardInterrupt\u001b[0m: Interrupted by user"
          ]
        }
      ]
    },
    {
      "cell_type": "code",
      "source": [
        "text=input(\"enter the text\")\n",
        "if text==text[::-1]:\n",
        "  print(\"palindrome\")\n",
        "else:\n",
        "  print(\"not palindrome\")\n",
        "freq={}\n",
        "for i in range(len(text)):\n",
        "  for ch in text:\n",
        "    freq[ch]=freq.get(ch,0)+1\n",
        "  print(freq)\n"
      ],
      "metadata": {
        "id": "VnsE43M_dK-O"
      },
      "execution_count": null,
      "outputs": []
    },
    {
      "cell_type": "code",
      "source": [
        "text=input(\"enter the text\")\n",
        "if text==text[::-1]:\n",
        "  print(\"palindrome\")\n",
        "else:\n",
        "  print(\"not palindrome\")\n",
        "\n"
      ],
      "metadata": {
        "id": "ojmIgEtvgLPN"
      },
      "execution_count": null,
      "outputs": []
    },
    {
      "cell_type": "code",
      "source": [
        "#searchings\n",
        "\"\"\"\n",
        "1.linear\n",
        "2.binary\n",
        "3.jump\n",
        "4.sentinal\n",
        "5.fibonacci\n",
        "6.interpolation\n",
        "\"\"\""
      ],
      "metadata": {
        "id": "9Q3h0UwOgflF"
      },
      "execution_count": null,
      "outputs": []
    },
    {
      "cell_type": "code",
      "source": [
        "#Linear search:\n",
        "\"\"\"\n",
        "In sorted or unsorted arrays\n",
        "[45,-,9,77,32]\n",
        "1.arr of list of size n\n",
        "2.key for seach element\n",
        "3.start with zero index\n",
        "4.compare arr[i]==key\n",
        "      arr[i]=key return index\n",
        "      else not(move to next index)\n",
        "5.repeat same steps till n-1\n",
        "6.if no match return -1\n",
        "\"\"\""
      ],
      "metadata": {
        "id": "t6i9CcYthVD-"
      },
      "execution_count": null,
      "outputs": []
    },
    {
      "cell_type": "code",
      "source": [],
      "metadata": {
        "id": "bqAQq_tGv8Ma"
      },
      "execution_count": null,
      "outputs": []
    },
    {
      "cell_type": "code",
      "source": [
        "lst=list(map(int,input(\"enter the list\").split(\",\")))\n",
        "key=int(input(\"enter the key element\"))\n",
        "for i in lst:\n",
        "    if key==i:\n",
        "             print(f\"element found at index:{lst.index(i)}\")\n",
        "    else:\n",
        "      print(\"element not found.\")"
      ],
      "metadata": {
        "id": "D8IljOi-jRcO"
      },
      "execution_count": null,
      "outputs": []
    },
    {
      "cell_type": "code",
      "source": [
        "def linear_search(arr,key):\n",
        "  for i in range(len(arr)):\n",
        "    if arr[i]==key:\n",
        "      return i\n",
        "  return -1\n",
        "size=int(input(\"enter the size of the array\"))\n",
        "arr=[]\n",
        "print(\"enter the elements\")\n",
        "for i in range(size):\n",
        "  num=int(input(f\"Element {i+1}\"))\n",
        "  arr.append(num)\n",
        "key=int(input(\"enter the element to be search\"))\n",
        "result=linear_search(arr,key)\n",
        "if result != -1:\n",
        "  print(f\"element found at index {result}\")\n",
        "else:\n",
        "  print(\"element not found\")\n",
        "\n",
        "\n"
      ],
      "metadata": {
        "id": "lqp5T0aqktpk"
      },
      "execution_count": null,
      "outputs": []
    },
    {
      "cell_type": "code",
      "source": [
        "#Binary search\n",
        "\"\"\"\n",
        "1.array must be sorted\n",
        "2.array is divided in to 2 seperate equivalent halfs\n",
        "***psuedo code***\n",
        "set low & high 0->n-1\n",
        "condition low<=high\n",
        "mid=low+high//2\n",
        "arr[mid]==key return mid\n",
        "arr[mid]<key low mid+1\n",
        "arr[mid]>key high mid-1\n",
        "not found return -1\n",
        "\"\"\"\n",
        "def binary_search(arr, key):\n",
        "    low = 0\n",
        "    high = len(arr) - 1\n",
        "    while low <= high:\n",
        "        mid = (low + high) // 2\n",
        "        if arr[mid] == key:\n",
        "            return mid\n",
        "        elif arr[mid] < key:\n",
        "            low = mid + 1\n",
        "        else:\n",
        "            high = mid - 1\n",
        "    return -1\n",
        "\n",
        "size = int(input(\"Enter the size of array: \"))\n",
        "arr = []\n",
        "print(\"Enter the elements in sorted order:\")\n",
        "\n",
        "for i in range(size):\n",
        "    num = int(input(f\"Element {i+1}: \"))\n",
        "    arr.append(num)\n",
        "\n",
        "key = int(input(\"Enter the element to search: \"))\n",
        "result = binary_search(arr, key)\n",
        "\n",
        "if result != -1:\n",
        "    print(f\"Element found at index {result}\")\n",
        "else:\n",
        "    print(\"Element not found\")"
      ],
      "metadata": {
        "id": "ETKtlsCnm_Hv"
      },
      "execution_count": null,
      "outputs": []
    },
    {
      "cell_type": "code",
      "source": [
        "#jump search\n",
        "\"\"\"\n",
        "1.\n",
        "2.create a block key\n",
        "3.search operation will beperformed\n",
        "arr[m]<var/key <arr(k+1)[m]\n",
        "4.compare each jump linearly\n",
        "\"\"\"\n",
        "import math\n",
        "def jump_search(arr,key):\n",
        "  if not arr:\n",
        "    return -1\n",
        "  n=len(arr)\n",
        "  step=int(math.sqrt(n))\n",
        "  prev=0\n",
        "  while prev < n and arr[prev]<target:\n",
        "    prev+=step\n",
        "  for i in range(max(0,prev-step),min(n,prev+1)):\n",
        "    if arr[i]==target:\n",
        "      return i\n",
        "  return -1\n",
        "arr=[1,3,5,7,8,9,11]\n",
        "target=7\n",
        "result=jump_search(arr,target)\n",
        "print(f\"Element{target} found at index:{result}\")\n",
        "\n",
        "\n",
        "\n"
      ],
      "metadata": {
        "id": "gCpPNCeAaZsb"
      },
      "execution_count": null,
      "outputs": []
    },
    {
      "cell_type": "code",
      "source": [
        "#exponential seach\n",
        "\"\"\"3.check the fist element\n",
        "4.find the range using expo while for boundary\n",
        "identify within boundary\n",
        "5.range perform binary search\n",
        "6.return result\n",
        "\"\"\"\n",
        "def bsearch_range(arr,target,left,right):\n",
        "  while left<=right:\n",
        "    mid=(left+right)//2\n",
        "    if arr[mid]==target:\n",
        "      return mid\n",
        "    elif arr[mid]<target:\n",
        "      left=mid+1\n",
        "    else:\n",
        "      right=mid-1\n",
        "  return -1\n",
        "def expo_search(arr,target):\n",
        "  if not arr:\n",
        "    return -1\n",
        "  if arr[0]==target:\n",
        "    return 0\n",
        "  n=len(arr)\n",
        "  i=1\n",
        "  while i<n and arr[i]<=target:\n",
        "    i*=2\n",
        "  return bsearch_range(arr,target,i//2,min(i,n-1))\n",
        "arr=[2,4,6,8,10,12,14]\n",
        "target=10\n",
        "result=expo_search(arr,target)\n",
        "print(f\"Elemnt {target} found at index:{result}\")\n"
      ],
      "metadata": {
        "id": "bCC3XYitaj57"
      },
      "execution_count": null,
      "outputs": []
    },
    {
      "cell_type": "markdown",
      "source": [],
      "metadata": {
        "id": "bdooP54E3w0l"
      }
    },
    {
      "cell_type": "code",
      "source": [],
      "metadata": {
        "id": "2EWu0Z_13xKV"
      },
      "execution_count": null,
      "outputs": []
    },
    {
      "cell_type": "code",
      "source": [],
      "metadata": {
        "id": "8kDlBu5D3xZ1"
      },
      "execution_count": null,
      "outputs": []
    },
    {
      "cell_type": "code",
      "source": [
        "#Fibonacci search\n",
        "def fibsearch(arr,target):\n",
        "  arr=[2,4,6,8,,10,12]\n"
      ],
      "metadata": {
        "id": "6L_sx316qtfc"
      },
      "execution_count": null,
      "outputs": []
    },
    {
      "cell_type": "code",
      "source": [
        "#sorting techniques\n",
        "\"\"\"\n",
        "1.Selection sort\n",
        "2.Insertion Sort\n",
        "3.Bubble sort\n",
        "4.Quick sort\n",
        "5.Counting\n",
        "6.radix sort\n",
        "7.heap sort"
      ],
      "metadata": {
        "id": "7NgKy57nxyL3"
      },
      "execution_count": null,
      "outputs": []
    },
    {
      "cell_type": "code",
      "source": [
        "#Selection sort\n",
        "\"\"\"\n",
        "1.select from the first element in the list/array\n",
        "2.arr[0]=min\n",
        "3.compare with all the remaining elements to find the real lowest element\n",
        "4.perform swapping with current position\n",
        "5.repeat the same with adding positional values for each , min check\n",
        "\"\"\"\n",
        "#psuedo code\n",
        "\"\"\"\n",
        "1.for ->0 to n-1:\n",
        "          min=i\n",
        "          for j -> i+1 to :\n",
        "                    if arr{j}<arr[min]\n",
        "                            swap\n",
        "min=i+1\n",
        "\"\"\"\n",
        "#program\n",
        "def selection_sort(arr):\n",
        "  n=len(arr)\n",
        "  for i in range(n):\n",
        "    min_index=i\n",
        "    for j in range(i+1,n):\n",
        "      if arr[j]<arr[min_index]:\n",
        "        min_index=j\n",
        "    arr[i],arr[min_index]=arr[min_index],arr[i]\n",
        "  return arr\n",
        "\n",
        "size=int(input(\"enter the no of elements:\"))\n",
        "arr=[]\n",
        "print(\"enter \",size,\" elements\")\n",
        "for _ in range(size):\n",
        "  num=int(input())\n",
        "  arr.append(num)\n",
        "result=selection_sort(arr)\n",
        "print(\"sorted array\",result)"
      ],
      "metadata": {
        "id": "kV_Km4wCyQaf"
      },
      "execution_count": null,
      "outputs": []
    },
    {
      "cell_type": "code",
      "source": [],
      "metadata": {
        "id": "CHKpcox6qwXp"
      },
      "execution_count": null,
      "outputs": []
    },
    {
      "cell_type": "code",
      "source": [
        "#Insertion sort\n",
        "#algorithm\n",
        "\"\"\"\n",
        "1. start from the first element inX\n",
        "t\n",
        "2. previous index valued element check (\n",
        "3. shift larger element one position to the right\n",
        "4. insert the current element in the correct position\n",
        "5. repeat until list sorted\n",
        "\"\"\"\n",
        "#psuedo code\n",
        "\"\"\"\n",
        "for i > 1 to n-1:\n",
        "key = arr[i]\n",
        "j=i-1\n",
        "while j>=0 and arr[j]>key\n",
        "\"\"\""
      ],
      "metadata": {
        "id": "kU7FtFJZBcN6"
      },
      "execution_count": null,
      "outputs": []
    },
    {
      "cell_type": "code",
      "source": [
        "# Insertion Sort\n",
        "def insertion_sort(arr):\n",
        "    for i in range(1, len(arr)):\n",
        "        key = arr[i]\n",
        "        j = i - 1\n",
        "        while j >= 0 and arr[j] > key:\n",
        "            arr[j + 1] = arr[j]\n",
        "            j -= 1\n",
        "        arr[j + 1] = key\n",
        "    return arr\n",
        "\n",
        "# Input from user\n",
        "size = int(input(\"Enter the number of elements: \"))\n",
        "arr = []\n",
        "print(\"Enter\", size, \"elements:\")\n",
        "for _ in range(size):\n",
        "    num = int(input())\n",
        "    arr.append(num)\n",
        "sorted_arr = insertion_sort(arr)\n",
        "print(\"Sorted array:\", sorted_arr)\n"
      ],
      "metadata": {
        "id": "Zii-JgsWDL7a"
      },
      "execution_count": null,
      "outputs": []
    },
    {
      "cell_type": "markdown",
      "source": [],
      "metadata": {
        "id": "weqEBjrJ3MmX"
      }
    },
    {
      "cell_type": "code",
      "source": [
        "#Bubble sort\n",
        "#Algorithm\n",
        "\"\"\"\n",
        "1.start from the beginning of the array/list2.\n",
        "2.comapre each pair to adjacent number\n",
        "3.if latest element is greater than adjacent perform swap\n",
        "4.repeat the process till n-1\n",
        "5.after each cycle/pass largest unsorted element would be in correct position\n",
        "6.repeat pass till all elements are sorted\n",
        "\"\"\"\n",
        "#psuedo code\n",
        "\"\"\"\n",
        "for i->0 to n-1\"\n",
        "for j-o to n-i-2\n",
        "if a[j]>a[j+1]\n",
        "swap(a[j],a[j+1])\n",
        "\"\"\"\n",
        "#program\n",
        "def bubble_sort(arr):\n",
        "  n=len(arr)\n",
        "  for i in range(n):\n",
        "    for j in range(0,n-i-1):\n",
        "      if arr[j]>arr[j+1]:\n",
        "        arr[j],arr[j+1]=arr[j+1],arr[j]\n",
        "\n",
        "size=int(input(\"enter the number of elements\"))\n",
        "arr=[]\n",
        "print(\"enter the elements:\")\n",
        "for _ in range(size):\n",
        "  arr.append(int(input()))\n",
        "print(\"original list:\",arr)\n",
        "bubble_sort(arr)\n",
        "print(\"Bubble sorted :\",arr)"
      ],
      "metadata": {
        "id": "7u2RKFO3U2tF"
      },
      "execution_count": null,
      "outputs": []
    },
    {
      "cell_type": "code",
      "source": [
        "#Counting sort\n",
        "\"\"\"\n",
        "1.no -ve numbers\n",
        "2.no -long numbers\n",
        "3.short confined numbers only ex:0-100\n",
        "\"\"\"\n",
        "#Algorithm\n",
        "\"\"\"\n",
        "1.find max min of array\n",
        "2.min!<0\n",
        "3.create a count array\n",
        "4.modify the count array for each element to be store the sum of previous\n",
        "counts\n",
        "5.place the output array back to the original array\n",
        "6.return the output array\n",
        "\"\"\"\n",
        "#pseudo code\n",
        "\"\"\"\n",
        "countsort(arr,n)\":\n",
        "1.find the max in arr\n",
        "2.create count(0-max)\n",
        "3.for i->0 to n-1:\n",
        "coun[a[i]]+=1\n",
        "4.for i-> 1 to max_va:\n",
        "count[i]+=count[i-1]\n",
        "5.for i>n-1 to 0:\n",
        "output[count[a[i]]-1]=a[i]\n",
        "count[a[i]]-=1\n",
        "6.return count\n",
        "\"\"\"\n",
        "#program\n",
        "def csort(arr):\n",
        "    if not arr:\n",
        "        return []\n",
        "    max_value=max(arr)\n",
        "    count=[0]*(max_value+1)\n",
        "    #freq\n",
        "    for num in arr:\n",
        "        count[num]+=1\n",
        "    #count\n",
        "    for i in range(1,max_value+1):\n",
        "        count[i]+=count[i-1]\n",
        "    output=[0]*len(arr)\n",
        "    #stable sort\n",
        "    for num in reversed(arr):\n",
        "        output[count[num]-1]=num\n",
        "        count[num]-=1\n",
        "    #copying sorted list\n",
        "    for i in range(len(arr)):\n",
        "        arr[i]=output[i]\n",
        "    return arr # Added return statement\n",
        "\n",
        "arr=[4,2,2,8,3,3,1]\n",
        "print(\"Before\",arr)\n",
        "arr = csort(arr) # Assigned the returned sorted array back to arr\n",
        "print(\"After:\",arr)"
      ],
      "metadata": {
        "id": "Him8jP9rY1y4"
      },
      "execution_count": null,
      "outputs": []
    },
    {
      "cell_type": "code",
      "source": [
        "#countsort for strings\n",
        "def csorting(s):\n",
        "  count=[0]*26\n",
        "  for char in s:\n",
        "    count[ord(char)-ord('a')]+=1\n",
        "  sorted_str=''\n",
        "  for i in range(26):\n",
        "    sorted_str+=chr(i+ord('a'))*count[i]\n",
        "  return sorted_str\n",
        "\n",
        "name=str(input(\"enter a single word\"))\n",
        "sorted_name=csorting(name)\n",
        "print(\"original string:\",name)\n",
        "print(\"sorted string:\",sorted_name)"
      ],
      "metadata": {
        "id": "lsRGnONwe0cn"
      },
      "execution_count": null,
      "outputs": []
    },
    {
      "cell_type": "code",
      "source": [
        "#radix sort\n",
        "#radix sort algorithm\n",
        "\"\"\"\n",
        "1.find the maximum numbrer to determine number of digits\n",
        "2.set 10^0 ,for digit position\n",
        "3.increment digit position w.r.t pass\n",
        "4.maxnum/exp>0\n",
        "perform count sort based on current digit\n",
        "(num//exp)%10\n",
        "multiply exp by 10\n"
      ],
      "metadata": {
        "id": "IsmhX0y5fGkp"
      },
      "execution_count": null,
      "outputs": []
    },
    {
      "cell_type": "code",
      "source": [
        "\n",
        "def count_sort(arr,exp):\n",
        "  n=len(arr)\n",
        "  output=[0]*n\n",
        "  count=[0]*10 #0->0 empty buckets for count of digits\n",
        "  for i in range(n):\n",
        "    index=(arr[i]//exp)%10\n",
        "    count[index]+=1\n",
        "  for i in range(1,10):\n",
        "    count[i]+=count[i-1]\n",
        "  i=n-1\n",
        "  while i>=0:\n",
        "    index=(arr[i]//exp)%10\n",
        "    output[count[index]-1]=arr[i]\n",
        "    count[index]-=1\n",
        "    i-=1\n",
        "  for i in range(n):\n",
        "    arr[i]=output[i]\n",
        "def radix_sort(arr):\n",
        "  max_num=max(arr)\n",
        "  exp=1\n",
        "  while max_num//exp>0:\n",
        "    count_sort(arr,exp)\n",
        "    exp*=10\n",
        "    arr=[170,45,90,802,24,2,66]\n",
        "print(\"Before sort:\",arr)\n",
        "radix_sort(arr)\n",
        "print(\"After sort:\",arr)\n",
        "\n",
        "\n",
        "\n",
        "\n",
        "\n",
        "\n",
        "\n",
        "\n",
        "\n",
        "\n",
        "\n"
      ],
      "metadata": {
        "colab": {
          "base_uri": "https://localhost:8080/"
        },
        "id": "vwNqwXkmrQLD",
        "outputId": "8594784b-d701-401d-bd2b-2b12a6bf7161"
      },
      "execution_count": null,
      "outputs": [
        {
          "output_type": "stream",
          "name": "stdout",
          "text": [
            "Before sort: [10, 20, 40, 25]\n",
            "After sort: [10, 20, 40, 25]\n"
          ]
        }
      ]
    },
    {
      "cell_type": "code",
      "source": [],
      "metadata": {
        "id": "KGinEen5uL7d"
      },
      "execution_count": null,
      "outputs": []
    }
  ]
}