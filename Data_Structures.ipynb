{
  "nbformat": 4,
  "nbformat_minor": 0,
  "metadata": {
    "colab": {
      "provenance": []
    },
    "kernelspec": {
      "name": "python3",
      "display_name": "Python 3"
    },
    "language_info": {
      "name": "python"
    }
  },
  "cells": [
    {
      "cell_type": "markdown",
      "source": [
        "DSA PROGRAMMING\n"
      ],
      "metadata": {
        "id": "ht7r0g33NnMt"
      }
    },
    {
      "cell_type": "code",
      "source": [
        "#Built In Data Structures\n",
        "\"\"\"\n",
        "1.List\n",
        "2.Tuple\n",
        "3.Set\n",
        "4.Dictonary\n",
        "5.Strings\n",
        "\"\"\""
      ],
      "metadata": {
        "colab": {
          "base_uri": "https://localhost:8080/",
          "height": 36
        },
        "id": "2YJXzQF3NDOR",
        "outputId": "ee2e082d-ca3a-4b9d-ae79-641b070d46e2"
      },
      "execution_count": null,
      "outputs": [
        {
          "output_type": "execute_result",
          "data": {
            "text/plain": [
              "'\\n1.List \\n2.Tuple\\n3.Set \\n4.Dictonary\\n5.Strings\\n'"
            ],
            "application/vnd.google.colaboratory.intrinsic+json": {
              "type": "string"
            }
          },
          "metadata": {},
          "execution_count": 14
        }
      ]
    },
    {
      "cell_type": "code",
      "source": [],
      "metadata": {
        "id": "rI_KVvTcT8OG"
      },
      "execution_count": null,
      "outputs": []
    },
    {
      "cell_type": "code",
      "source": [
        "#Topics in Data Structures covered\n",
        "\"\"\"\n",
        "1.arrays/list\n",
        "2.String\n",
        "3.stacks\n",
        "4.queues\n",
        "5.linked list\n",
        "6.Hashing/Hash Tables\n",
        "7.sets\n",
        "8.Trees\n",
        "9.Graphs\n",
        "10.Heaps /priority queue\n",
        "11.trie - prefix\n",
        "12.recursion / Backtracking\n",
        "13.Searching\n",
        "14.Sorting\n",
        "15.greedy/brute-force\n",
        "\"\"\""
      ],
      "metadata": {
        "colab": {
          "base_uri": "https://localhost:8080/",
          "height": 72
        },
        "id": "4ZYdSgRvQpyB",
        "outputId": "9762605e-8274-4385-8ddb-7b1882c8fb67"
      },
      "execution_count": null,
      "outputs": [
        {
          "output_type": "execute_result",
          "data": {
            "text/plain": [
              "'\\n1.arrays/list\\n2.String\\n3.stacks\\n4.queues\\n5.linked list\\n6.Hashing/Hash Tables\\n7.sets\\n8.Trees\\n9.Graphs\\n10.Heaps /priority queue\\n11.trie - prefix\\n12.recursion / backtracking\\n13.Searching\\n14.Sorting\\n15.greedy/brute-force\\n'"
            ],
            "application/vnd.google.colaboratory.intrinsic+json": {
              "type": "string"
            }
          },
          "metadata": {},
          "execution_count": 18
        }
      ]
    },
    {
      "cell_type": "code",
      "source": [
        "#Array operations\n",
        "\"\"\"\n",
        "program to consider a list arr=[10,20,30,40] and resptively perform insert operation and deletion operation with 50 and 25 at position 2 respectively traverse the\n",
        "array to fetch a number 25 is present or not \"\"\"\n",
        "arr=[10,20,30,40]\n",
        "#insert\n",
        "arr.append(50)\n",
        "arr.insert(2,25)\n",
        "print(arr)\n",
        "for i in arr:\n",
        "  print(i,end='')\n",
        "#deletion\n",
        "arr.remove(30)\n",
        "arr.pop()\n",
        "print(arr)\n",
        "#traversal\n",
        "for i in arr:\n",
        "  print(i,end='')\n",
        "#searching\n",
        "print(\"\\n 25 in array?\",25 in arr)"
      ],
      "metadata": {
        "colab": {
          "base_uri": "https://localhost:8080/"
        },
        "id": "rV9IkDTbTAf_",
        "outputId": "efa11681-fa47-446f-b8fe-4dcee696ffb9"
      },
      "execution_count": null,
      "outputs": [
        {
          "output_type": "stream",
          "name": "stdout",
          "text": [
            "[10, 20, 25, 30, 40, 50]\n",
            "102025304050[10, 20, 25, 40]\n",
            "10202540\n",
            " 25 in array? True\n"
          ]
        }
      ]
    },
    {
      "cell_type": "code",
      "source": [
        "''' program to check whether the program the given string is\n",
        "palindrome or not and count characters which are repeated\n",
        "str=madam\n",
        "output:{'m':2,'a':2,'d':1}\n",
        "str=malayalam\n",
        "'''\n",
        "text=input(\"enter the text\")\n",
        "if text==text[::-1]:\n",
        "  print(\"palindrome\")\n",
        "else:\n",
        "  print(\"not palindrome\")\n",
        "freq={}\n",
        "for ch in text:\n",
        "  freq[ch]=freq.get(ch,0)+1\n",
        "print(freq)"
      ],
      "metadata": {
        "id": "OAAFS3oSVELP",
        "colab": {
          "base_uri": "https://localhost:8080/"
        },
        "outputId": "aa78c488-9e43-42a1-a48e-56a673b0b798"
      },
      "execution_count": null,
      "outputs": [
        {
          "output_type": "stream",
          "name": "stdout",
          "text": [
            "enter the textmalayalam\n",
            "palindrome\n",
            "{'m': 2, 'a': 4, 'l': 2, 'y': 1}\n"
          ]
        }
      ]
    },
    {
      "cell_type": "code",
      "source": [
        "text=input(\"enter the text\")\n",
        "if text==text[::-1]:\n",
        "  print(\"palindrome\")\n",
        "else:\n",
        "  print(\"not palindrome\")\n",
        "freq={}\n",
        "for i in range(len(text)):\n",
        "  for ch in text:\n",
        "    freq[ch]=freq.get(ch,0)+1\n",
        "  print(freq)\n"
      ],
      "metadata": {
        "colab": {
          "base_uri": "https://localhost:8080/"
        },
        "id": "VnsE43M_dK-O",
        "outputId": "e4647a8b-e4df-4e9c-c4a1-c78fa2b0fa6b"
      },
      "execution_count": null,
      "outputs": [
        {
          "output_type": "stream",
          "name": "stdout",
          "text": [
            "enter the textnarayana\n",
            "not palindrome\n",
            "{'n': 2, 'a': 4, 'r': 1, 'y': 1}\n",
            "{'n': 4, 'a': 8, 'r': 2, 'y': 2}\n",
            "{'n': 6, 'a': 12, 'r': 3, 'y': 3}\n",
            "{'n': 8, 'a': 16, 'r': 4, 'y': 4}\n",
            "{'n': 10, 'a': 20, 'r': 5, 'y': 5}\n",
            "{'n': 12, 'a': 24, 'r': 6, 'y': 6}\n",
            "{'n': 14, 'a': 28, 'r': 7, 'y': 7}\n",
            "{'n': 16, 'a': 32, 'r': 8, 'y': 8}\n"
          ]
        }
      ]
    },
    {
      "cell_type": "code",
      "source": [
        "text=input(\"enter the text\")\n",
        "if text==text[::-1]:\n",
        "  print(\"palindrome\")\n",
        "else:\n",
        "  print(\"not palindrome\")\n",
        "\n"
      ],
      "metadata": {
        "colab": {
          "base_uri": "https://localhost:8080/"
        },
        "id": "ojmIgEtvgLPN",
        "outputId": "88a8fc7e-3e57-4066-a970-61691e286406"
      },
      "execution_count": null,
      "outputs": [
        {
          "output_type": "stream",
          "name": "stdout",
          "text": [
            "enter the textnarayana\n",
            "not palindrome\n"
          ]
        }
      ]
    },
    {
      "cell_type": "code",
      "source": [
        "#searchings\n",
        "\"\"\"\n",
        "1.linear\n",
        "2.binary\n",
        "3.sentinal\n",
        "4.fibonacci\n",
        "5.interpolation\n",
        "\"\"\""
      ],
      "metadata": {
        "colab": {
          "base_uri": "https://localhost:8080/",
          "height": 36
        },
        "id": "9Q3h0UwOgflF",
        "outputId": "2bac8e52-064b-4e64-e20e-72ae7ac65085"
      },
      "execution_count": null,
      "outputs": [
        {
          "output_type": "execute_result",
          "data": {
            "text/plain": [
              "'\\n1.linear\\n2.binary\\n3.sentinal\\n4.fibonacci \\n5.interpolation \\n'"
            ],
            "application/vnd.google.colaboratory.intrinsic+json": {
              "type": "string"
            }
          },
          "metadata": {},
          "execution_count": 39
        }
      ]
    },
    {
      "cell_type": "code",
      "source": [
        "#Linear search:\n",
        "\"\"\"\n",
        "In sorted or unsorted arrays\n",
        "[45,-,9,77,32]\n",
        "1.arr of list of size n\n",
        "2.key for seach element\n",
        "3.start with zero index\n",
        "4.compare arr[i]==key\n",
        "      arr[i]=key return index\n",
        "      else not(move to next index)\n",
        "5.repeat same steps till n-1\n",
        "6.if no match return -1\n",
        "\"\"\""
      ],
      "metadata": {
        "id": "t6i9CcYthVD-"
      },
      "execution_count": null,
      "outputs": []
    },
    {
      "cell_type": "code",
      "source": [],
      "metadata": {
        "id": "bqAQq_tGv8Ma"
      },
      "execution_count": null,
      "outputs": []
    },
    {
      "cell_type": "code",
      "source": [
        "lst=list(map(int,input(\"enter the list\").split(\",\")))\n",
        "key=int(input(\"enter the key element\"))\n",
        "for i in lst:\n",
        "    if key==i:\n",
        "             print(f\"element found at index:{lst.index(i)}\")\n",
        "    else:\n",
        "      print(\"element not found.\")"
      ],
      "metadata": {
        "colab": {
          "base_uri": "https://localhost:8080/"
        },
        "id": "D8IljOi-jRcO",
        "outputId": "a53d85d3-06ff-4816-be4b-07b5637f83b3"
      },
      "execution_count": null,
      "outputs": [
        {
          "output_type": "stream",
          "name": "stdout",
          "text": [
            "enter the list1,2,3,4,5,6,7,8\n",
            "enter the key element7\n",
            "element not found.\n",
            "element not found.\n",
            "element not found.\n",
            "element not found.\n",
            "element not found.\n",
            "element not found.\n",
            "element found at index:6\n",
            "element not found.\n"
          ]
        }
      ]
    },
    {
      "cell_type": "code",
      "source": [
        "def linear_search(arr,key):\n",
        "  for i in range(len(arr)):\n",
        "    if arr[i]==key:\n",
        "      return i\n",
        "  return -1\n",
        "size=int(input(\"enter the size of the array\"))\n",
        "arr=[]\n",
        "print(\"enter the elements\")\n",
        "for i in range(size):\n",
        "  num=int(input(f\"Element {i+1}\"))\n",
        "  arr.append(num)\n",
        "key=int(input(\"enter the element to be search\"))\n",
        "result=linear_search(arr,key)\n",
        "if result != -1:\n",
        "  print(f\"element found at index {result}\")\n",
        "else:\n",
        "  print(\"element not found\")\n",
        "\n",
        "\n"
      ],
      "metadata": {
        "colab": {
          "base_uri": "https://localhost:8080/"
        },
        "id": "lqp5T0aqktpk",
        "outputId": "09a4afa8-3fd6-45fc-dc1d-912fe4d71b7a"
      },
      "execution_count": null,
      "outputs": [
        {
          "output_type": "stream",
          "name": "stdout",
          "text": [
            "enter the size of the array5\n",
            "enter the elements\n",
            "Element 120\n",
            "Element 230\n",
            "Element 350\n",
            "Element 480\n",
            "Element 570\n",
            "enter the element to be search80\n",
            "element found at index 3\n"
          ]
        }
      ]
    },
    {
      "cell_type": "code",
      "source": [
        "#Binary search\n",
        "\"\"\"\n",
        "1.array must be sorted\n",
        "2.array is divided in to 2 seperate equivalent halfs\n",
        "***psuedo code***\n",
        "set low & high 0->n-1\n",
        "condition low<=high\n",
        "mid=low+high//2\n",
        "arr[mid]==key return mid\n",
        "arr[mid]<key low mid+1\n",
        "arr[mid]>key high mid-1\n",
        "not found return -1\n",
        "\"\"\"\n",
        "def binary_search(arr, key):\n",
        "    low = 0\n",
        "    high = len(arr) - 1\n",
        "    while low <= high:\n",
        "        mid = (low + high) // 2\n",
        "        if arr[mid] == key:\n",
        "            return mid\n",
        "        elif arr[mid] < key:\n",
        "            low = mid + 1\n",
        "        else:\n",
        "            high = mid - 1\n",
        "    return -1\n",
        "\n",
        "size = int(input(\"Enter the size of array: \"))\n",
        "arr = []\n",
        "print(\"Enter the elements in sorted order:\")\n",
        "\n",
        "for i in range(size):\n",
        "    num = int(input(f\"Element {i+1}: \"))\n",
        "    arr.append(num)\n",
        "\n",
        "key = int(input(\"Enter the element to search: \"))\n",
        "result = binary_search(arr, key)\n",
        "\n",
        "if result != -1:\n",
        "    print(f\"Element found at index {result}\")\n",
        "else:\n",
        "    print(\"Element not found\")"
      ],
      "metadata": {
        "id": "ETKtlsCnm_Hv",
        "colab": {
          "base_uri": "https://localhost:8080/"
        },
        "outputId": "78f6527c-e5ed-48d1-a452-146049972370"
      },
      "execution_count": null,
      "outputs": [
        {
          "output_type": "stream",
          "name": "stdout",
          "text": [
            "Enter the size of array: 5\n",
            "Enter the elements in sorted order:\n",
            "Element 1: 1\n",
            "Element 2: 2\n",
            "Element 3: 3\n",
            "Element 4: 4\n",
            "Element 5: 5\n",
            "Enter the element to search: 5\n",
            "Element found at index 4\n"
          ]
        }
      ]
    },
    {
      "cell_type": "code",
      "source": [
        "23"
      ],
      "metadata": {
        "id": "YS6JzTfawb2o"
      },
      "execution_count": null,
      "outputs": []
    }
  ]
}